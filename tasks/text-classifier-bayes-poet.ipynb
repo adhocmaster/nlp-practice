{
 "cells": [
  {
   "cell_type": "code",
   "execution_count": 1,
   "id": "f0519a25-0d76-44c0-9a25-79233abd054b",
   "metadata": {},
   "outputs": [
    {
     "name": "stdout",
     "output_type": "stream",
     "text": [
      "current working dirD:\\ML\\nlp\\nlp-practice\n"
     ]
    }
   ],
   "source": [
    "exec(open('init_notebook.py').read())"
   ]
  },
  {
   "cell_type": "code",
   "execution_count": 2,
   "id": "f3a11de1-efd3-48ce-b3ed-0da46441f370",
   "metadata": {},
   "outputs": [],
   "source": [
    "import pandas as pd\n",
    "import numpy as np\n",
    "import numpy.typing as npt\n",
    "import nltk\n",
    "import seaborn as sns\n",
    "import tqdm\n",
    "import os\n",
    "from nltk.corpus import stopwords\n",
    "from sklearn.metrics import ConfusionMatrixDisplay, confusion_matrix\n",
    "from sklearn.metrics import RocCurveDisplay, roc_curve\n",
    "from sklearn.metrics import accuracy_score, balanced_accuracy_score\n",
    "\n",
    "from nltk import word_tokenize\n",
    "%load_ext autoreload\n",
    "%autoreload 2"
   ]
  },
  {
   "cell_type": "code",
   "execution_count": 3,
   "id": "649af4a1-a4de-459f-9865-3a8626104ada",
   "metadata": {},
   "outputs": [],
   "source": [
    "import wget\n",
    "import os"
   ]
  },
  {
   "cell_type": "code",
   "execution_count": 4,
   "id": "a7146e9d-59c2-45f8-bc95-0bd3d0d700f8",
   "metadata": {},
   "outputs": [
    {
     "data": {
      "text/plain": [
       "'D:/ML/nlp/nlp-practice\\\\data'"
      ]
     },
     "execution_count": 4,
     "metadata": {},
     "output_type": "execute_result"
    }
   ],
   "source": [
    "dataDir = os.path.join(projectFolder, \"data\")\n",
    "dataDir"
   ]
  },
  {
   "cell_type": "code",
   "execution_count": 5,
   "id": "92fde756-470b-4c45-99d2-974746bd8fae",
   "metadata": {},
   "outputs": [],
   "source": [
    "# url1 = \"https://raw.githubusercontent.com/lazyprogrammer/machine_learning_examples/master/hmm_class/edgar_allan_poe.txt\"\n",
    "# url2 = \"https://raw.githubusercontent.com/lazyprogrammer/machine_learning_examples/master/hmm_class/robert_frost.txt\"\n",
    "# wget.download(url1, out=dataDir)\n",
    "# wget.download(url2, out=dataDir)"
   ]
  },
  {
   "cell_type": "markdown",
   "id": "01ec4400-ec8d-4efe-9391-da42321c3d14",
   "metadata": {},
   "source": [
    "# Task = Given a Poem, who is the poet?\n",
    "## Model using a Bayes-Classifier.\n",
    "\n",
    "p(x|author1), p(x|author2) can be calculated by creating two markov models, one for author1 and one for author2. So, we can use unsupervised method for supervised task!"
   ]
  },
  {
   "cell_type": "code",
   "execution_count": 6,
   "id": "fbcec830-31cf-4bf4-b876-e6b7f158fe49",
   "metadata": {},
   "outputs": [],
   "source": [
    "from library.common_preprocess import *\n",
    "from library.selection import *\n",
    "import math"
   ]
  },
  {
   "cell_type": "code",
   "execution_count": null,
   "id": "ab53e1a1-eef0-42fd-8817-11b4576aa0be",
   "metadata": {},
   "outputs": [],
   "source": []
  },
  {
   "cell_type": "code",
   "execution_count": 7,
   "id": "42416f79-8a87-45c5-848b-f7b7e705f3de",
   "metadata": {},
   "outputs": [],
   "source": [
    "with open(os.path.join(dataDir, \"edgar_allan_poe.txt\")) as f:\n",
    "    poeSentences = f.readlines()\n",
    "with open(os.path.join(dataDir, \"robert_frost.txt\")) as f:\n",
    "    frostSentences = f.readlines()"
   ]
  },
  {
   "cell_type": "markdown",
   "id": "aa31406d-2667-4d4a-989b-dbf2be34a740",
   "metadata": {},
   "source": [
    "## Step 1: Lemmatize"
   ]
  },
  {
   "cell_type": "code",
   "execution_count": 8,
   "id": "5c28e718-5652-4f87-84fa-6da9426268ab",
   "metadata": {},
   "outputs": [],
   "source": [
    "poeSentences = lemmatize(poeSentences)\n",
    "frostSentences = lemmatize(frostSentences)"
   ]
  },
  {
   "cell_type": "markdown",
   "id": "26d8aa95-2180-4c14-af2c-f5170b485769",
   "metadata": {},
   "source": [
    "## Step 2: train-test split"
   ]
  },
  {
   "cell_type": "code",
   "execution_count": 9,
   "id": "4a16ca29-4ce1-45d9-9dee-698430c0498e",
   "metadata": {},
   "outputs": [],
   "source": [
    "poTrain, poTest = split(poeSentences, 0.7)\n",
    "frostTrain, frostTest = split(frostSentences, 0.7)"
   ]
  },
  {
   "cell_type": "markdown",
   "id": "098b9ddf-df14-4294-9905-dc618b5eeba8",
   "metadata": {},
   "source": [
    "## Step 3: Build vocabulary based on the train sets"
   ]
  },
  {
   "cell_type": "code",
   "execution_count": 10,
   "id": "22505b95-41a8-4d2b-8247-cd9f0ed97588",
   "metadata": {},
   "outputs": [],
   "source": [
    "trainSet = poTrain + frostTrain"
   ]
  },
  {
   "cell_type": "code",
   "execution_count": 11,
   "id": "3909aecf-dce1-406e-95a0-09c95d7ef79d",
   "metadata": {},
   "outputs": [
    {
     "name": "stdout",
     "output_type": "stream",
     "text": [
      "*** top 10 words out of 1958 words***\n",
      "the 622\n",
      "and 318\n",
      "be 310\n",
      "a 291\n",
      "of 278\n",
      "i 273\n",
      "to 262\n",
      "in 198\n",
      "it 174\n",
      "that 146\n"
     ]
    }
   ],
   "source": [
    "wordToIndex = buildWordToIndex (\n",
    "    word_tokenize, \n",
    "    trainSet, \n",
    "    maxSize = 5000,\n",
    "    # stopWords=stopwords.words('english'),\n",
    "    stopWords=None,\n",
    "    lowercase=True,\n",
    "    ignorePunkt=True\n",
    ")\n",
    "idxToWord = {v: k for k, v in wordToIndex.items()}"
   ]
  },
  {
   "cell_type": "code",
   "execution_count": 12,
   "id": "df1c4002-3c91-40f8-83b6-5ab91de192e2",
   "metadata": {},
   "outputs": [
    {
     "data": {
      "text/plain": [
       "1959"
      ]
     },
     "execution_count": 12,
     "metadata": {},
     "output_type": "execute_result"
    }
   ],
   "source": [
    "vocabularySize = len(wordToIndex)\n",
    "vocabularySize"
   ]
  },
  {
   "cell_type": "markdown",
   "id": "654435f0-f131-4c85-8de2-d42e531a27f5",
   "metadata": {},
   "source": [
    "## Step 4: tokenize "
   ]
  },
  {
   "cell_type": "code",
   "execution_count": 13,
   "id": "5cb8c27f-760f-4d58-9e2e-023876bb0bcb",
   "metadata": {},
   "outputs": [],
   "source": [
    "poTrainTokens = [tokenizeDoc(word_tokenize, doc, wordToIndex) for doc in poTrain]\n",
    "frostTrainTokens = [tokenizeDoc(word_tokenize, doc, wordToIndex) for doc in frostTrain]"
   ]
  },
  {
   "cell_type": "code",
   "execution_count": 14,
   "id": "52ceda01-2987-441d-a224-22c320c19848",
   "metadata": {},
   "outputs": [
    {
     "data": {
      "text/plain": [
       "[7, 3, 201, 571, 16, 266]"
      ]
     },
     "execution_count": 14,
     "metadata": {},
     "output_type": "execute_result"
    }
   ],
   "source": [
    "poTrainTokens[0]"
   ]
  },
  {
   "cell_type": "code",
   "execution_count": 15,
   "id": "50f995bb-ce0a-4814-b711-163b7cd4fb63",
   "metadata": {},
   "outputs": [
    {
     "data": {
      "text/plain": [
       "'In a strange city , all alone ,'"
      ]
     },
     "execution_count": 15,
     "metadata": {},
     "output_type": "execute_result"
    }
   ],
   "source": [
    "poTrain[0]"
   ]
  },
  {
   "cell_type": "markdown",
   "id": "f854b083-7147-489a-967f-ebb2639fe677",
   "metadata": {},
   "source": [
    "## Step 5: Build Markov Models"
   ]
  },
  {
   "cell_type": "code",
   "execution_count": 16,
   "id": "fb4c8421-139f-45ae-9a7e-90938c6f03ae",
   "metadata": {},
   "outputs": [],
   "source": [
    "TransitionMatrix = npt.NDArray\n",
    "MarginalProbabilities = npt.NDArray\n",
    "Probablity = float\n",
    "\n",
    "# Markov Model for an author\n",
    "def buildMarkovModel(sentences: List[List[Token]], vocabularySize: int) -> Tuple[TransitionMatrix, MarginalProbabilities]:\n",
    "    # step 1: initialize A, and pi\n",
    "    \n",
    "    pi = np.zeros(vocabularySize) + 0.000001 # no zeros\n",
    "    A = np.zeros((vocabularySize, vocabularySize)) + 0.000001 # no zeros\n",
    "    # print(vocabularySize)\n",
    "    for aSenTokens in sentences:\n",
    "        # print(aSenTokens)\n",
    "        if len(aSenTokens) > 0:\n",
    "            pi[aSenTokens[0]] += 1 # initial state\n",
    "            for i in range(1, len(aSenTokens)): # i next, j is previous.\n",
    "                iToken = aSenTokens[i]\n",
    "                jToken = aSenTokens[i-1]\n",
    "                A[iToken, jToken] += 1\n",
    "                \n",
    "    # now each column in A represents a previous word. So, we normalize the column to get probabilities P(i|j).\n",
    "    \n",
    "    A /= np.sum(A, axis=0)\n",
    "    \n",
    "    # followin is the validation check if each column adds up to 1\n",
    "    # Asums = np.sum(A, axis=0)\n",
    "    # ones = np.ones_like(Asums)\n",
    "    # for col in range(len(Asums)):\n",
    "    #     assert np.allclose(Asums, ones)\n",
    "    \n",
    "    return A, pi\n",
    "\n"
   ]
  },
  {
   "cell_type": "code",
   "execution_count": 17,
   "id": "e69e9823-c314-4336-b3f5-194a9a7fd30d",
   "metadata": {},
   "outputs": [],
   "source": [
    "poA, poPi = buildMarkovModel(poTrainTokens, vocabularySize)\n",
    "frA, frPi = buildMarkovModel(frostTrainTokens, vocabularySize)"
   ]
  },
  {
   "cell_type": "markdown",
   "id": "397377ca-7eec-44e4-a310-1f458177feba",
   "metadata": {},
   "source": [
    "## Step 6: Bayes Model "
   ]
  },
  {
   "cell_type": "code",
   "execution_count": 18,
   "id": "dd7710a4-051f-419d-8f5a-6d99c9601762",
   "metadata": {},
   "outputs": [],
   "source": [
    "\n",
    "\n",
    "class Model:\n",
    "    def __init__(self, tokenizer,  wordToIndex: Dict[WordRoot, Token], A1: TransitionMatrix, pi1: MarginalProbabilities, A2: TransitionMatrix, pi2: MarginalProbabilities):\n",
    "        self.tokenizer = tokenizer\n",
    "        self.wordToIndex = wordToIndex\n",
    "        \n",
    "        self.mdps = {\n",
    "            1: [A1, pi1],\n",
    "            2: [A2, pi2]\n",
    "        }\n",
    "        \n",
    "    def getProbabiltyGivenLabel(self, lemmatizedSentence: Sentence, label: Label) -> Probablity:\n",
    "        A, pi = self.mdps[label]\n",
    "            \n",
    "        aSenTokens = tokenizeDoc(self.tokenizer, lemmatizedSentence, self.wordToIndex)\n",
    "        # assert len(aSenTokens) > 0\n",
    "        if len(aSenTokens) == 0:\n",
    "            return None\n",
    "        # now we compute the joint probability of the sequence. What about the unknown and zeros?\n",
    "        p = pi[aSenTokens[0]] * math.sqrt(len(aSenTokens)) # we scale by the size????\n",
    "        for i in range(1, len(aSenTokens)):\n",
    "            iToken = aSenTokens[i]\n",
    "            jToken = aSenTokens[i-1]\n",
    "            p *= A[iToken, jToken]\n",
    "        return p # we don't need log probabilities as author probabilities are the same (assuming)\n",
    "        \n",
    "    def getLogProbabiltyGivenLabel(self, lemmatizedSentence: Sentence, label: Label) -> Probablity:\n",
    "        A, pi = self.mdps[label]\n",
    "            \n",
    "        aSenTokens = tokenizeDoc(self.tokenizer, lemmatizedSentence, self.wordToIndex)\n",
    "        # assert len(aSenTokens) > 0\n",
    "        if len(aSenTokens) == 0:\n",
    "            return None\n",
    "        # now we compute the joint probability of the sequence. What about the unknown and zeros?\n",
    "        p = np.log(pi[aSenTokens[0]])\n",
    "        for i in range(1, len(aSenTokens)):\n",
    "            iToken = aSenTokens[i]\n",
    "            jToken = aSenTokens[i-1]\n",
    "            p += np.log(A[iToken, jToken])\n",
    "        return p # we don't need log probabilities as author probabilities are the same (assuming)\n",
    "    \n",
    "    def __call__(self, lemmatizedSentence: Sentence) -> Optional[Label]:\n",
    "        \n",
    "        pMax = -math.inf\n",
    "        argMax = None\n",
    "        for label in self.mdps:\n",
    "            p = self.getLogProbabiltyGivenLabel(lemmatizedSentence, label)\n",
    "            # print(p)\n",
    "            if p is None:\n",
    "                continue\n",
    "            if p > pMax:\n",
    "                pMax = p\n",
    "                argMax = label\n",
    "        return argMax\n",
    "            \n",
    "        \n",
    "    "
   ]
  },
  {
   "cell_type": "code",
   "execution_count": 19,
   "id": "63359dee-7396-48af-aa74-a68193262e7f",
   "metadata": {},
   "outputs": [],
   "source": [
    "model = Model(\n",
    "        tokenizer=word_tokenize,\n",
    "        wordToIndex=wordToIndex,\n",
    "        A1=poA,\n",
    "        pi1=poPi,\n",
    "        A2=frA,\n",
    "        pi2=frPi\n",
    "    )"
   ]
  },
  {
   "cell_type": "code",
   "execution_count": 20,
   "id": "fe8854f7-fd05-47dc-b105-f12e2e2b3986",
   "metadata": {},
   "outputs": [],
   "source": [
    "poLabel = 1\n",
    "frLabel = 2"
   ]
  },
  {
   "cell_type": "code",
   "execution_count": 21,
   "id": "398afe35-d11c-45e6-b91a-f1a569c10e73",
   "metadata": {},
   "outputs": [
    {
     "data": {
      "text/plain": [
       "3.622029110071169e-26"
      ]
     },
     "execution_count": 21,
     "metadata": {},
     "output_type": "execute_result"
    }
   ],
   "source": [
    "model.getProbabiltyGivenLabel(poTest[2], 1)"
   ]
  },
  {
   "cell_type": "code",
   "execution_count": 22,
   "id": "5eeecb4d-2f0c-46d3-a3b6-ac790b6b114d",
   "metadata": {},
   "outputs": [
    {
     "data": {
      "text/plain": [
       "2"
      ]
     },
     "execution_count": 22,
     "metadata": {},
     "output_type": "execute_result"
    }
   ],
   "source": [
    "model(poTest[2])"
   ]
  },
  {
   "cell_type": "markdown",
   "id": "f9de4cd5-7145-4b8b-a5d1-cb41789f3fff",
   "metadata": {},
   "source": [
    "# Step 7: Evaluate"
   ]
  },
  {
   "cell_type": "code",
   "execution_count": 23,
   "id": "8e79db91-41df-4cde-b8c7-357486aa255b",
   "metadata": {},
   "outputs": [],
   "source": [
    "# Train"
   ]
  },
  {
   "cell_type": "code",
   "execution_count": 24,
   "id": "7e6abdf4-f4ae-4b0e-80a0-df09cdbb4fd8",
   "metadata": {},
   "outputs": [
    {
     "name": "stdout",
     "output_type": "stream",
     "text": [
      "0.593006993006993 0.5813377192982456\n"
     ]
    },
    {
     "name": "stderr",
     "output_type": "stream",
     "text": [
      "C:\\Users\\adhocmaster\\anaconda3\\envs\\nlptf\\lib\\site-packages\\sklearn\\metrics\\_classification.py:2006: UserWarning: y_pred contains classes not in y_true\n",
      "  warnings.warn(\"y_pred contains classes not in y_true\")\n"
     ]
    },
    {
     "data": {
      "image/png": "[encoded data removed]",
      "text/plain": [
       "<Figure size 640x480 with 2 Axes>"
      ]
     },
     "metadata": {},
     "output_type": "display_data"
    }
   ],
   "source": [
    "# build the confusion matrix\n",
    "Y_pred = []\n",
    "Y_test = []\n",
    "for sen in poTest:\n",
    "    pred = model(sen)\n",
    "    if pred is None:\n",
    "        pred = -1\n",
    "    Y_pred.append(pred)\n",
    "    Y_test.append(poLabel)\n",
    "    \n",
    "for sen in frostTest:\n",
    "    pred = model(sen)\n",
    "    if pred is None:\n",
    "        pred = -1\n",
    "    Y_pred.append(pred)\n",
    "    Y_test.append(frLabel)\n",
    "    \n",
    "cm = confusion_matrix(Y_test, Y_pred)\n",
    "disp = ConfusionMatrixDisplay(cm, display_labels=[\"None\", \"Poe\", \"Frost\"])\n",
    "disp.plot()\n",
    "print(accuracy_score(Y_test, Y_pred), balanced_accuracy_score(Y_test, Y_pred))"
   ]
  },
  {
   "cell_type": "code",
   "execution_count": 25,
   "id": "7e6cd2f2-44b5-4e9b-b686-eb583f389561",
   "metadata": {},
   "outputs": [
    {
     "name": "stdout",
     "output_type": "stream",
     "text": [
      "0.9043896572459411 0.9045032643878177\n"
     ]
    },
    {
     "name": "stderr",
     "output_type": "stream",
     "text": [
      "C:\\Users\\adhocmaster\\anaconda3\\envs\\nlptf\\lib\\site-packages\\sklearn\\metrics\\_classification.py:2006: UserWarning: y_pred contains classes not in y_true\n",
      "  warnings.warn(\"y_pred contains classes not in y_true\")\n"
     ]
    },
    {
     "data": {
      "image/png": "[encoded data removed]",
      "text/plain": [
       "<Figure size 640x480 with 2 Axes>"
      ]
     },
     "metadata": {},
     "output_type": "display_data"
    }
   ],
   "source": [
    "# build the confusion matrix\n",
    "Y_pred = []\n",
    "Y_test = []\n",
    "for sen in poTrain:\n",
    "    pred = model(sen)\n",
    "    if pred is None:\n",
    "        pred = -1\n",
    "    Y_pred.append(pred)\n",
    "    Y_test.append(poLabel)\n",
    "    \n",
    "for sen in frostTrain:\n",
    "    pred = model(sen)\n",
    "    if pred is None:\n",
    "        pred = -1\n",
    "    Y_pred.append(pred)\n",
    "    Y_test.append(frLabel)\n",
    "    \n",
    "cm = confusion_matrix(Y_test, Y_pred)\n",
    "disp = ConfusionMatrixDisplay(cm, display_labels=[\"None\", \"Poe\", \"Frost\"])\n",
    "disp.plot()\n",
    "print(accuracy_score(Y_test, Y_pred), balanced_accuracy_score(Y_test, Y_pred))\n"
   ]
  },
  {
   "cell_type": "code",
   "execution_count": null,
   "id": "4710edce-df96-4a6c-b1c8-577ad8cf3534",
   "metadata": {},
   "outputs": [],
   "source": []
  }
 ],
 "metadata": {
  "kernelspec": {
   "display_name": "Python 3 (ipykernel)",
   "language": "python",
   "name": "python3"
  },
  "language_info": {
   "codemirror_mode": {
    "name": "ipython",
    "version": 3
   },
   "file_extension": ".py",
   "mimetype": "text/x-python",
   "name": "python",
   "nbconvert_exporter": "python",
   "pygments_lexer": "ipython3",
   "version": "3.8.12"
  }
 },
 "nbformat": 4,
 "nbformat_minor": 5
}

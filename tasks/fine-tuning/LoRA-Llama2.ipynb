{
 "cells": [
  {
   "cell_type": "markdown",
   "id": "bf7dd48b-adff-4bf4-8f92-9239497cc489",
   "metadata": {},
   "source": [
    "# https://pytorch.org/torchtune/stable/tutorials/lora_finetune.html\n",
    "LoRA memory savings come primarily from gradient and optimizer states, so if your model’s peak memory comes in its forward() method, then LoRA may not reduce peak memory.\n",
    "\n",
    "nn.Linear(in_dim,out_dim) layer could have rank as high as min(in_dim,out_dim)\n",
    "\n",
    "**The main idea:** Instead of updating weights of a layer, freeze the layer, and add a new low-rank-optimization layer and fine-tune it. \n",
    "**But:** Low-rank approximation of a matrix is a optimization problem. \n",
    "\n",
    "What does it do? Inject another layer between two layers which reduces the number of weight parameters!"
   ]
  },
  {
   "cell_type": "code",
   "execution_count": null,
   "id": "bf190cbb-f439-404b-9d11-cb37058dd047",
   "metadata": {},
   "outputs": [],
   "source": []
  }
 ],
 "metadata": {
  "kernelspec": {
   "display_name": "Python 3 (ipykernel)",
   "language": "python",
   "name": "python3"
  },
  "language_info": {
   "codemirror_mode": {
    "name": "ipython",
    "version": 3
   },
   "file_extension": ".py",
   "mimetype": "text/x-python",
   "name": "python",
   "nbconvert_exporter": "python",
   "pygments_lexer": "ipython3",
   "version": "3.8.17"
  }
 },
 "nbformat": 4,
 "nbformat_minor": 5
}

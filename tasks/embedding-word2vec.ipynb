{
 "cells": [
  {
   "cell_type": "code",
   "execution_count": 1,
   "id": "6aabfbbc-4aa6-410f-b20a-bd781172e760",
   "metadata": {},
   "outputs": [
    {
     "name": "stdout",
     "output_type": "stream",
     "text": [
      "current working dirD:\\ML\\nlp\\nlp-practice\n"
     ]
    }
   ],
   "source": [
    "exec(open('init_notebook.py').read())"
   ]
  },
  {
   "cell_type": "code",
   "execution_count": 2,
   "id": "1ba06f3f-55b9-41f7-8835-54fbc8f2a036",
   "metadata": {},
   "outputs": [],
   "source": [
    "import pandas as pd\n",
    "import numpy as np\n",
    "import numpy.typing as npt\n",
    "import nltk\n",
    "# import seaborn as sns\n",
    "import tqdm\n",
    "import os\n",
    "from nltk.corpus import stopwords\n",
    "from sklearn.metrics import ConfusionMatrixDisplay, confusion_matrix\n",
    "from sklearn.metrics import RocCurveDisplay, roc_curve\n",
    "from sklearn.metrics import accuracy_score, balanced_accuracy_score\n",
    "\n",
    "from nltk import word_tokenize\n",
    "from library.common_preprocess import *\n",
    "from library.selection import *\n",
    "\n",
    "from IPython import display\n",
    "import matplotlib.pyplot as plt\n",
    "%matplotlib inline\n",
    "\n",
    "\n",
    "import math\n",
    "import heapq\n",
    "\n",
    "%load_ext autoreload\n",
    "%autoreload 2"
   ]
  },
  {
   "cell_type": "code",
   "execution_count": 3,
   "id": "d8c6da4c-a9c9-4cbd-94fd-35e2a632e2ab",
   "metadata": {},
   "outputs": [],
   "source": [
    "import torch\n",
    "import torch.nn as nn\n",
    "import torch.functional as F\n",
    "import torch.optim as optim\n",
    "from torch.utils.data import Dataset, DataLoader"
   ]
  },
  {
   "cell_type": "markdown",
   "id": "4a5b4a38-1c34-414a-b58d-ddf9d2a368ff",
   "metadata": {},
   "source": [
    "### Background\n",
    "Word embeddings extend the idea of co-occurance matrix which captures co-occuring words in a very sparse matrix. Word embeddings reduce the sparse encoding into a very dense vector. There exists other approaches which can compress the co-occurance matrix using Singular Value Decomposition (SVD) such as Latent Semantic Analysis (LSA). \n",
    "\n",
    "### There are two different ways to train word2vec: \n",
    "1. Continous Bag of Words (CBOW) approach where a set of context words predict the center word\n",
    "2. Continuous Skip-Gram (or Skipgram) model where one context word is used to predict words at different positions before and after it."
   ]
  },
  {
   "cell_type": "code",
   "execution_count": 4,
   "id": "5b1c7f1f-382d-4c12-8809-3b48e1e68334",
   "metadata": {},
   "outputs": [
    {
     "data": {
      "text/plain": [
       "'D:/ML/nlp/nlp-practice\\\\data'"
      ]
     },
     "execution_count": 4,
     "metadata": {},
     "output_type": "execute_result"
    }
   ],
   "source": [
    "## Data\n",
    "dataDir = os.path.join(projectFolder, \"data\")\n",
    "dataDir"
   ]
  },
  {
   "cell_type": "code",
   "execution_count": 5,
   "id": "2bee792c-b2cb-4173-bf63-af03836fbf6e",
   "metadata": {},
   "outputs": [],
   "source": [
    "import gensim.downloader as api\n",
    "from gensim.corpora import Dictionary\n",
    "from gensim import corpora"
   ]
  },
  {
   "cell_type": "code",
   "execution_count": 6,
   "id": "efb73978-95ec-4321-8023-2d252c3f6960",
   "metadata": {},
   "outputs": [],
   "source": [
    "dataset = api.load(\"text8\")\n",
    "dataset = [doc for doc in dataset]\n",
    "dictionary = corpora.Dictionary(dataset)\n",
    "# dataset[0]"
   ]
  },
  {
   "cell_type": "code",
   "execution_count": 11,
   "id": "fb0626d9-bc01-421e-a87f-2378c5ab77e3",
   "metadata": {},
   "outputs": [
    {
     "data": {
      "text/plain": [
       "62963"
      ]
     },
     "execution_count": 11,
     "metadata": {},
     "output_type": "execute_result"
    }
   ],
   "source": [
    "dictionary.token2id[\"the\"]\n",
    "\n",
    "corpusBuff = []\n",
    "for doc in dataset[:1]:\n",
    "    corpusBuff.append(\" \".join(doc))\n",
    "corpus = \" \".join(corpusBuff)\n",
    "len(corpus)"
   ]
  },
  {
   "cell_type": "code",
   "execution_count": 12,
   "id": "f998ef2a-11d9-4611-b96a-41d9f9b30ca4",
   "metadata": {},
   "outputs": [
    {
     "name": "stdout",
     "output_type": "stream",
     "text": [
      "*** top 10 words out of 2519 words***\n",
      "the 521\n",
      "of 357\n",
      "and 302\n",
      "in 250\n",
      "to 227\n",
      "a 184\n",
      "as 133\n",
      "one 130\n",
      "is 110\n",
      "anarchism 102\n"
     ]
    }
   ],
   "source": [
    "# corpus = '''Machine learning is the study of computer algorithms that \\\n",
    "# improve automatically through experience. It is seen as a \\\n",
    "# subset of artificial intelligence. Machine learning algorithms \\\n",
    "# build a mathematical model based on sample data, known as \\\n",
    "# training data, in order to make predictions or decisions without \\\n",
    "# being explicitly programmed to do so. Machine learning algorithms \\\n",
    "# are used in a wide variety of applications, such as email filtering \\\n",
    "# and computer vision, where it is difficult or infeasible to develop \\\n",
    "# conventional algorithms to perform the needed tasks.'''\n",
    "\n",
    "# for doc in dataset[:10]\n",
    "# we won't lemmatize the words. but we will strip puntuations and make words lower\n",
    "\n",
    "\n",
    "wordToIndex = buildWordToIndex (\n",
    "    word_tokenize, \n",
    "    [corpus], \n",
    "    maxSize = 5000,\n",
    "    # stopWords=stopwords.words('english'),\n",
    "    stopWords=None,\n",
    "    lowercase=True,\n",
    "    ignorePunkt=True\n",
    ")\n",
    "\n",
    "paddingWord = \"0_0\"\n",
    "wordToIndex[paddingWord] = len(wordToIndex) # our pad\n",
    "idxToWord = {v: k for k, v in wordToIndex.items()}\n",
    "\n",
    "\n",
    "corpusWords = lowerUnPunkt(word_tokenize(corpus))"
   ]
  },
  {
   "cell_type": "code",
   "execution_count": 13,
   "id": "d0823570-a44f-4a73-8afa-21c7558e5e8e",
   "metadata": {},
   "outputs": [],
   "source": [
    "Vector = npt.NDArray\n",
    "def cosineSimilarity(v1: Vector, v2: Vector) -> float:\n",
    "    # returns similariy in cos theta\n",
    "    # a @ b = |a||b|cos(theta)\n",
    "    return (v1 @ v2) / (torch.linalg.norm(v1, ord=2) * torch.linalg.norm(v2, ord=2))\n",
    "\n",
    "def mostSimilarWords(wordToEmbedding: Dict[Word, Vector], k: int) -> List[Tuple[Word, Word]]:\n",
    "    # On^2 search\n",
    "    similarTupes = []\n",
    "    words = list(wordToEmbedding.keys())\n",
    "    for w1Idx in range(len(words)-1):\n",
    "        w1 = words[w1Idx]\n",
    "        for w2Idx in range(w1Idx+1, len(words)):\n",
    "            w2 = words[w2Idx]\n",
    "            sim = cosineSimilarity(wordToEmbedding[w1], wordToEmbedding[w2])\n",
    "            similarTupes.append((sim, w1, w2))\n",
    "    return heapq.nlargest(k, similarTupes, key=lambda t: t[0])\n",
    "    "
   ]
  },
  {
   "cell_type": "markdown",
   "id": "af316411-6f4d-4be1-8068-0da315c90032",
   "metadata": {},
   "source": [
    "#### CBOW\n",
    "Steps\n",
    "1. n = 3. for each word we will take 3 words before and 3 words after. If not enough words, we will use a 0-padding.\n",
    "2. we will pass the context words through the same hidden layer (same weights) and average the outputs to get the context. Then we will use a softmax layer to predict the word\n",
    "3. loss = - sum(y_i * log(y_hat_i)) / batch_size\n",
    "4. This is a naive implementation where y is always 1 or 0. A better implementation should draw y from a training distribution.\n",
    "\n",
    "Embeddings: embeddings are just the weights. W1[0] for the first word because the 0th index is True"
   ]
  },
  {
   "cell_type": "code",
   "execution_count": 14,
   "id": "683e84d3-6baf-419c-84c7-c53317e3821e",
   "metadata": {},
   "outputs": [],
   "source": [
    "def createCBOWs(corpusWords: List[Word], windowSize: int, paddingWord: Word):\n",
    "    cbows = []\n",
    "    extent = windowSize // 2\n",
    "    for i, target in enumerate(corpusWords):\n",
    "        left = max(0, i - extent)\n",
    "        right = min(len(corpusWords), i + extent+1)\n",
    "        context = corpusWords[left:i] + corpusWords[i+1: right]\n",
    "        if len(context) < windowSize:\n",
    "            for i in range(windowSize - len(context)):\n",
    "                context.append(paddingWord)\n",
    "        \n",
    "        cbows.append((context, target))\n",
    "    return cbows\n",
    "\n",
    "class CBOWDataset(Dataset):\n",
    "    def __init__(self, cbows: List[Tuple[List[Word], Word]], wordToIndex: Dict[Word, Token], paddingWord: Word):\n",
    "        self.wordToIndex = wordToIndex\n",
    "        self.cbows = cbows\n",
    "        self.paddingWord = paddingWord\n",
    "\n",
    "    def __len__(self) -> int:\n",
    "        return len(self.cbows)\n",
    "\n",
    "    def __getitem__(self, idx: Index) -> Tuple[npt.NDArray, int]:\n",
    "        # we sum the one hots and divide by the hots?\n",
    "        context, target = self.cbows[idx]\n",
    "        x = self.oneHotsAvgRow(context)\n",
    "        return x, self.wordToIndex[target]\n",
    "        \n",
    "\n",
    "    def oneHotColumn(self, word: Word) -> ColumnVector:\n",
    "        hot = torch.zeros((len(self.wordToIndex), 1))\n",
    "        hotIdx = self.wordToIndex[word]\n",
    "        hot[hotIdx] = 1\n",
    "        return hot\n",
    "        \n",
    "    def oneHotsAvgColumn(self, words: List[Word]) -> ColumnVector:\n",
    "        hot = torch.zeros((len(self.wordToIndex), 1))\n",
    "        padCount = 0\n",
    "        for word in words:\n",
    "            hotIdx = self.wordToIndex[word]\n",
    "            hot[hotIdx] = 1\n",
    "            if word == self.paddingWord:\n",
    "                padCount += 1\n",
    "        # hot /= (len(words) - padCount) # ?????\n",
    "        hot /= len(words) # ????? padding\n",
    "        return hot\n",
    "        \n",
    "    def oneHotsAvgRow(self, words: List[Word]) -> RowVector:\n",
    "        hot = torch.zeros((1, len(self.wordToIndex)))\n",
    "        padCount = 0\n",
    "        for word in words:\n",
    "            hotIdx = self.wordToIndex[word]\n",
    "            hot[0][hotIdx] = 1\n",
    "            if word == self.paddingWord:\n",
    "                padCount += 1\n",
    "        # hot /= (len(words) - padCount) # ?????\n",
    "        hot /= len(words) # ????? padding\n",
    "        return hot\n",
    "    \n",
    "        "
   ]
  },
  {
   "cell_type": "code",
   "execution_count": 24,
   "id": "ebfc81b5-2dd3-4263-8d2e-01c03baa58bf",
   "metadata": {},
   "outputs": [],
   "source": [
    "cbows = createCBOWs(corpusWords, 3, paddingWord)\n",
    "trainSize = int(len(cbows) * 0.7)\n",
    "trainDB = CBOWDataset(cbows[0: trainSize], wordToIndex, paddingWord)\n",
    "testDB = CBOWDataset(cbows[trainSize:], wordToIndex, paddingWord)\n",
    "trainLoader = DataLoader(trainDB, batch_size = 64, shuffle=True)\n",
    "testLoader = DataLoader(testDB, batch_size=64, shuffle=True)"
   ]
  },
  {
   "cell_type": "code",
   "execution_count": 25,
   "id": "2bc10a97-44bb-4249-8237-b9766b35226d",
   "metadata": {},
   "outputs": [
    {
     "data": {
      "text/plain": [
       "[(['originated', '0_0', '0_0'], 'anarchism'),\n",
       " (['anarchism', 'as', '0_0'], 'originated'),\n",
       " (['originated', 'a', '0_0'], 'as')]"
      ]
     },
     "execution_count": 25,
     "metadata": {},
     "output_type": "execute_result"
    }
   ],
   "source": [
    "cbows[:3]"
   ]
  },
  {
   "cell_type": "code",
   "execution_count": 26,
   "id": "c4e243cd-ef13-41c0-922c-440cc251a3e0",
   "metadata": {},
   "outputs": [
    {
     "data": {
      "text/plain": [
       "(torch.Size([64, 1, 2521]), torch.Size([64]))"
      ]
     },
     "execution_count": 26,
     "metadata": {},
     "output_type": "execute_result"
    }
   ],
   "source": [
    "assert trainDB[0][1] == wordToIndex[cbows[0][1]]\n",
    "assert testDB[-1][1] == wordToIndex[cbows[-1][1]]\n",
    "batchX, batchY = next(iter(trainLoader))\n",
    "batchX.shape, batchY.shape"
   ]
  },
  {
   "cell_type": "code",
   "execution_count": 27,
   "id": "ded9c9dd-1efe-4214-b44c-091a20c3da20",
   "metadata": {},
   "outputs": [],
   "source": [
    "## simple two layer model\n",
    "ColumnVector = npt.NDArray\n",
    "Logits = ColumnVector\n",
    "BatchLogits = npt.NDArray[Logits]\n",
    "\n",
    "class Model(nn.Module):\n",
    "    def __init__(self, wordToIndex: Dict[Word, Token], hiddenSize: int):\n",
    "        super().__init__()\n",
    "        self.inputSize = len(wordToIndex) # one hot size\n",
    "        self.hiddenSize = hiddenSize\n",
    "        self.outputSize = self.inputSize # vocab size\n",
    "        self.wordToIndex = wordToIndex\n",
    "        # we create two layers\n",
    "        self.W1 = nn.Parameter(data=torch.randn((self.inputSize, self.hiddenSize)), requires_grad=True)\n",
    "        self.W2 = nn.Parameter(data=torch.randn((self.hiddenSize, self.outputSize)), requires_grad=True)\n",
    "\n",
    "\n",
    "    def forward(self, batch: npt.NDArray[RowVector]) -> BatchLogits: # m, nx -> m, nx # input and output sizes are the same, nx\n",
    "        batch = batch.squeeze(axis=1) # removing the extra axis\n",
    "        batch = batch.T # m, nx -> nx, m\n",
    "        # print(self.W1.T.shape, batch.shape)\n",
    "        A1 = self.W1.T @ batch # W1.T = n_a, nx, -> n_a, m (n_a is the hidden size, # of neurons)\n",
    "        A2 = self.W2.T @ A1 # nx, n_a @ n_a, m -> nx, m\n",
    "        return A2.T\n",
    "    "
   ]
  },
  {
   "cell_type": "code",
   "execution_count": 28,
   "id": "532990d2-bdff-4a8b-ad17-edda5ee8a83f",
   "metadata": {},
   "outputs": [
    {
     "data": {
      "text/plain": [
       "Model()"
      ]
     },
     "execution_count": 28,
     "metadata": {},
     "output_type": "execute_result"
    }
   ],
   "source": [
    "n_a = 10\n",
    "model = Model(wordToIndex, n_a) # we will have a 2 dimensional embedding\n",
    "model.cuda()"
   ]
  },
  {
   "cell_type": "code",
   "execution_count": 29,
   "id": "bb8c9777-4153-43a6-94b1-70345154de6b",
   "metadata": {},
   "outputs": [
    {
     "data": {
      "text/plain": [
       "(torch.Size([64, 1, 2521]), torch.Size([64]), torch.Size([64, 2521]))"
      ]
     },
     "execution_count": 29,
     "metadata": {},
     "output_type": "execute_result"
    }
   ],
   "source": [
    "\n",
    "batchX, batchY = next(iter(trainLoader))\n",
    "logits = model(batchX.cuda())\n",
    "# assert logits.shape[0] \n",
    "batchX.shape, batchY.shape, logits.shape"
   ]
  },
  {
   "cell_type": "code",
   "execution_count": 30,
   "id": "812f8bdb-0de4-48a5-a669-fc55355995a4",
   "metadata": {},
   "outputs": [],
   "source": [
    "Optimizer = any\n",
    "Criterion = Callable[[npt.NDArray, npt.NDArray], float]\n",
    "Path = str\n",
    "\n",
    "def train(\n",
    "        model: nn.Module,\n",
    "        nEpochs: int,\n",
    "        trainLoader: DataLoader,\n",
    "        validationLoader: DataLoader,\n",
    "        optimizer: Optimizer,\n",
    "        criterion: Criterion,\n",
    "        useCuda: bool,\n",
    "        savePath: Path\n",
    "    ) -> Tuple[List[float], List[float]]:\n",
    "    trainLoss = []\n",
    "    validLoss = []\n",
    "    minValidationLoss = np.inf\n",
    "\n",
    "    # we will not use cuda for this one.\n",
    "\n",
    "    for epoch in tqdm(range(nEpochs)):\n",
    "        epochTrainLoss = 0.0\n",
    "        epochValidLoss = 0.0\n",
    "\n",
    "        ############# Train #############\n",
    "\n",
    "        model.train()\n",
    "        for batchIdx, (batchX, batchY) in enumerate(trainLoader):\n",
    "            #### forward ####\n",
    "            if useCuda:\n",
    "                batchX, batchY = batchX.cuda(), batchY.cuda()\n",
    "            logits = model(batchX)\n",
    "            loss = criterion(logits, batchY)\n",
    "            epochTrainLoss += loss.item() / len(batchX)\n",
    "\n",
    "            #### backward ####\n",
    "            optimizer.zero_grad()\n",
    "            loss.backward()\n",
    "            optimizer.step()\n",
    "\n",
    "        trainLoss.append(epochTrainLoss)\n",
    "\n",
    "        ########### Vlidation ###############\n",
    "        model.eval()\n",
    "        with torch.inference_mode():\n",
    "            for batchIdx, (batchX, batchY) in enumerate(validationLoader):\n",
    "                \n",
    "                #### forward #####\n",
    "                if useCuda:\n",
    "                    batchX, batchY = batchX.cuda(), batchY.cuda()\n",
    "                logits = model(batchX)\n",
    "                loss = criterion(logits, batchY)\n",
    "                epochValidLoss += loss.item() / len(batchX)\n",
    "                \n",
    "\n",
    "        validLoss.append(epochValidLoss)\n",
    "\n",
    "        \n",
    "        display.clear_output(wait=True)\n",
    "        plt.plot(trainLoss, label=\"train loss\")\n",
    "        plt.plot(validLoss, label=\"test loss\")\n",
    "        if epoch == 0:\n",
    "            plt.legend()\n",
    "        display.display(plt.gcf())\n",
    "        \n",
    "    return trainLoss, validLoss\n",
    "        \n",
    "    pass"
   ]
  },
  {
   "cell_type": "code",
   "execution_count": 31,
   "id": "7804f8c1-6746-4992-99d8-97f1cfb61b0c",
   "metadata": {},
   "outputs": [
    {
     "data": {
      "image/png": "[encoded data removed]",
      "text/plain": [
       "<Figure size 640x480 with 1 Axes>"
      ]
     },
     "metadata": {},
     "output_type": "display_data"
    },
    {
     "name": "stderr",
     "output_type": "stream",
     "text": [
      "100%|██████████████████████████████████████████████████████████████████████████████████| 50/50 [00:40<00:00,  1.24it/s]\n"
     ]
    },
    {
     "data": {
      "image/png": "[encoded data removed]",
      "text/plain": [
       "<Figure size 640x480 with 1 Axes>"
      ]
     },
     "metadata": {},
     "output_type": "display_data"
    }
   ],
   "source": [
    "n_a = 10\n",
    "model = Model(wordToIndex, n_a) # we will have a 2 dimensional embedding\n",
    "model.cuda()\n",
    "\n",
    "criterion = nn.NLLLoss()\n",
    "optimizer = optim.Adam(model.parameters(), lr=0.001)\n",
    "trainLoss, testLoss = train(\n",
    "    model,\n",
    "    nEpochs=50,\n",
    "    trainLoader = trainLoader,\n",
    "    validationLoader = testLoader,\n",
    "    optimizer = optimizer,\n",
    "    criterion = criterion,\n",
    "    useCuda = True,\n",
    "    savePath = None)\n"
   ]
  },
  {
   "cell_type": "code",
   "execution_count": 32,
   "id": "03cb9ffc-40cf-468d-b042-670de0accb8b",
   "metadata": {},
   "outputs": [
    {
     "data": {
      "text/plain": [
       "[(tensor(0.9919), 'of', 'anarchism'),\n",
       " (tensor(0.9910), 'pacifist', 'organised'),\n",
       " (tensor(0.9879), 'in', 'it'),\n",
       " (tensor(0.9856), 'society', 'war'),\n",
       " (tensor(0.9843), 'the', 'is')]"
      ]
     },
     "execution_count": 32,
     "metadata": {},
     "output_type": "execute_result"
    }
   ],
   "source": [
    "# The embeddings\n",
    "# Word Vectors\n",
    "params = list(model.parameters())\n",
    "wordVectors = params[0].detach().cpu()\n",
    "indexedWords = [None] * len(wordToIndex)\n",
    "for word, idx in wordToIndex.items():\n",
    "    indexedWords[idx] = word\n",
    "\n",
    "wordToEmbedding = {word: em for word, em in zip(indexedWords, wordVectors)}\n",
    "# wordToEmbedding\n",
    "mostSimilars = mostSimilarWords(wordToEmbedding, 5)\n",
    "mostSimilars"
   ]
  },
  {
   "cell_type": "markdown",
   "id": "8151496e-d575-4549-9932-15b24807af7d",
   "metadata": {},
   "source": [
    "### Skipgram\n",
    "\n",
    "In this approach we have one context word and we want to predict +-n words around it. "
   ]
  },
  {
   "cell_type": "code",
   "execution_count": null,
   "id": "255fd9c2-c8b7-4a58-87b9-7e8b94156224",
   "metadata": {},
   "outputs": [],
   "source": [
    "def createSkipgrams(corpusWords: List[Word], windowSize: int, paddingWord: Word):\n",
    "    cbows = []\n",
    "    extent = windowSize // 2\n",
    "    for i, target in enumerate(corpusWords):\n",
    "        left = max(0, i - extent)\n",
    "        right = min(len(corpusWords), i + extent+1)\n",
    "        context = corpusWords[left:i] + corpusWords[i+1: right]\n",
    "        if len(context) < windowSize:\n",
    "            for i in range(windowSize - len(context)):\n",
    "                context.append(paddingWord)\n",
    "        \n",
    "        cbows.append((context, target))\n",
    "    return cbows"
   ]
  }
 ],
 "metadata": {
  "kernelspec": {
   "display_name": "Python 3 (ipykernel)",
   "language": "python",
   "name": "python3"
  },
  "language_info": {
   "codemirror_mode": {
    "name": "ipython",
    "version": 3
   },
   "file_extension": ".py",
   "mimetype": "text/x-python",
   "name": "python",
   "nbconvert_exporter": "python",
   "pygments_lexer": "ipython3",
   "version": "3.8.17"
  }
 },
 "nbformat": 4,
 "nbformat_minor": 5
}

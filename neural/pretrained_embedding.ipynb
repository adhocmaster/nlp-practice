{
 "cells": [
  {
   "cell_type": "code",
   "execution_count": 3,
   "id": "1a497c42-504d-40a8-b750-713e56f4fca5",
   "metadata": {},
   "outputs": [],
   "source": [
    "import gdown"
   ]
  },
  {
   "cell_type": "code",
   "execution_count": 4,
   "id": "b0533c9c-e684-486b-a68f-6dad8e75f4d4",
   "metadata": {},
   "outputs": [],
   "source": [
    "from typing import *\n",
    "import numpy as np\n",
    "import numpy.typing as npt\n",
    "from scipy import spatial\n",
    "\n",
    "import matplotlib.pyplot as plt\n",
    "from sklearn.manifold import TSNE\n",
    "import functools"
   ]
  },
  {
   "cell_type": "code",
   "execution_count": 5,
   "id": "8671404b-9fb1-410c-8f85-38195f8632c2",
   "metadata": {},
   "outputs": [],
   "source": [
    "# Slower but always guaranteed to work\n",
    "# !wget -nc https://lazyprogrammer.me/course_files/nlp/GoogleNews-vectors-negative300.bin.gz\n"
   ]
  },
  {
   "cell_type": "code",
   "execution_count": 6,
   "id": "a26547b2-d615-4cd5-b4ec-42c84c37a4f3",
   "metadata": {},
   "outputs": [],
   "source": [
    "from gensim.models import KeyedVectors"
   ]
  },
  {
   "cell_type": "markdown",
   "id": "3c16dd92-b654-4230-b824-70c5bc242890",
   "metadata": {},
   "source": [
    "## Word2Vec Pretrained"
   ]
  },
  {
   "cell_type": "code",
   "execution_count": 5,
   "id": "3eb8b946-4c11-4418-a575-943eefcf33f6",
   "metadata": {},
   "outputs": [],
   "source": [
    "wordVectors = KeyedVectors.load_word2vec_format(\n",
    "    \"../data/GoogleNews-vectors-negative300.bin\",\n",
    "    binary=True\n",
    ")"
   ]
  },
  {
   "cell_type": "code",
   "execution_count": 15,
   "id": "a1a56136-eed2-4a01-a377-a0852f1c4581",
   "metadata": {},
   "outputs": [],
   "source": [
    "def findAnalogies(wordVectors: KeyedVectors, pair, second) -> str:\n",
    "    # first = pair[0] - pair[1] + first\n",
    "    # king - man = queen - woman\n",
    "    # queen = king - man + woman\n",
    "    r = wordVectors.most_similar(positive=[pair[0], second], negative=[pair[1]])\n",
    "    # print(r) # tuples of word and score\n",
    "    print(\"%s - %s = %s - %s\" % (pair[0], pair[1], r[0][0], second))\n",
    "    return r[0][0]\n",
    "\n",
    "def nearestNeighbors(wordVectors: KeyedVectors, w: str) -> List[str]:\n",
    "    r = wordVectors.most_similar(w)\n",
    "    return [word for word, score in r]"
   ]
  },
  {
   "cell_type": "code",
   "execution_count": 16,
   "id": "95504609-4353-44c0-8b4e-85414efab579",
   "metadata": {},
   "outputs": [
    {
     "name": "stdout",
     "output_type": "stream",
     "text": [
      "king - man = queen - woman\n"
     ]
    },
    {
     "data": {
      "text/plain": [
       "'queen'"
      ]
     },
     "execution_count": 16,
     "metadata": {},
     "output_type": "execute_result"
    }
   ],
   "source": [
    "findAnalogies(wordVectors, ('king', 'man'), 'woman')"
   ]
  },
  {
   "cell_type": "code",
   "execution_count": 17,
   "id": "7b9bb9b3-f7ad-4c68-951b-ebd8cb380816",
   "metadata": {},
   "outputs": [
    {
     "name": "stdout",
     "output_type": "stream",
     "text": [
      "france - paris = england - london\n"
     ]
    },
    {
     "data": {
      "text/plain": [
       "'england'"
      ]
     },
     "execution_count": 17,
     "metadata": {},
     "output_type": "execute_result"
    }
   ],
   "source": [
    "findAnalogies(wordVectors, ('france', 'paris'), 'london')"
   ]
  },
  {
   "cell_type": "code",
   "execution_count": 19,
   "id": "d74abe57-180c-40b1-9d74-37e09dfac87b",
   "metadata": {},
   "outputs": [
    {
     "data": {
      "text/plain": [
       "['liverpool',\n",
       " 'chelsea',\n",
       " 'fulham',\n",
       " 'tottenham',\n",
       " 'rooney',\n",
       " 'man_utd',\n",
       " 'torres',\n",
       " 'ronaldo',\n",
       " 'spain',\n",
       " 'gerrard']"
      ]
     },
     "execution_count": 19,
     "metadata": {},
     "output_type": "execute_result"
    }
   ],
   "source": [
    "nearestNeighbors(wordVectors, \"england\")"
   ]
  },
  {
   "cell_type": "code",
   "execution_count": 20,
   "id": "37a6b52a-84c5-4306-8b0b-4dceafa0ba64",
   "metadata": {},
   "outputs": [
    {
     "data": {
      "text/plain": [
       "['madrid',\n",
       " 'portugal',\n",
       " 'barcelona',\n",
       " 'italy',\n",
       " 'england',\n",
       " 'europe',\n",
       " 'diego',\n",
       " 'carlos',\n",
       " 'real_madrid',\n",
       " 'sweden']"
      ]
     },
     "execution_count": 20,
     "metadata": {},
     "output_type": "execute_result"
    }
   ],
   "source": [
    "nearestNeighbors(wordVectors, \"spain\")"
   ]
  },
  {
   "cell_type": "code",
   "execution_count": 23,
   "id": "54eb5e5f-7e24-4d2e-83a1-ba1b0f32937f",
   "metadata": {},
   "outputs": [
    {
     "data": {
      "text/plain": [
       "['real_madrid',\n",
       " 'barca',\n",
       " 'madrid',\n",
       " 'drogba',\n",
       " 'man_utd',\n",
       " 'messi',\n",
       " 'ronaldinho',\n",
       " 'chelsea',\n",
       " 'tottenham',\n",
       " 'liverpool']"
      ]
     },
     "execution_count": 23,
     "metadata": {},
     "output_type": "execute_result"
    }
   ],
   "source": [
    "nearestNeighbors(wordVectors, \"barcelona\")"
   ]
  },
  {
   "cell_type": "markdown",
   "id": "9c5041f2-5620-43cb-a07d-8a97ff8d1178",
   "metadata": {},
   "source": [
    "# GloVe"
   ]
  },
  {
   "cell_type": "code",
   "execution_count": 7,
   "id": "f48376c7-9011-4056-9c7b-7c5ea944da62",
   "metadata": {},
   "outputs": [],
   "source": [
    "# load glove 50d trained on 6b tokens\n",
    "filePath = \"../data/glove.6B.50d.txt\"\n",
    "embeddings = {}\n",
    "with open(filePath, \"r\", encoding=\"utf-8\") as fp:\n",
    "    for line in fp:\n",
    "        values = line.split()\n",
    "        embeddings[values[0]] = np.asarray(values[1:], dtype=np.float32) # assuming single words\n"
   ]
  },
  {
   "cell_type": "code",
   "execution_count": 8,
   "id": "d2e0fd84-3037-45fa-a801-01b7a36cae98",
   "metadata": {},
   "outputs": [
    {
     "data": {
      "text/plain": [
       "array([ 4.1800e-01,  2.4968e-01, -4.1242e-01,  1.2170e-01,  3.4527e-01,\n",
       "       -4.4457e-02, -4.9688e-01, -1.7862e-01, -6.6023e-04, -6.5660e-01,\n",
       "        2.7843e-01, -1.4767e-01, -5.5677e-01,  1.4658e-01, -9.5095e-03,\n",
       "        1.1658e-02,  1.0204e-01, -1.2792e-01, -8.4430e-01, -1.2181e-01,\n",
       "       -1.6801e-02, -3.3279e-01, -1.5520e-01, -2.3131e-01, -1.9181e-01,\n",
       "       -1.8823e+00, -7.6746e-01,  9.9051e-02, -4.2125e-01, -1.9526e-01,\n",
       "        4.0071e+00, -1.8594e-01, -5.2287e-01, -3.1681e-01,  5.9213e-04,\n",
       "        7.4449e-03,  1.7778e-01, -1.5897e-01,  1.2041e-02, -5.4223e-02,\n",
       "       -2.9871e-01, -1.5749e-01, -3.4758e-01, -4.5637e-02, -4.4251e-01,\n",
       "        1.8785e-01,  2.7849e-03, -1.8411e-01, -1.1514e-01, -7.8581e-01],\n",
       "      dtype=float32)"
      ]
     },
     "execution_count": 8,
     "metadata": {},
     "output_type": "execute_result"
    }
   ],
   "source": [
    "embeddings[\"the\"]"
   ]
  },
  {
   "cell_type": "code",
   "execution_count": 12,
   "id": "293aaf22-9fde-4bd2-a34b-233c59bcad9f",
   "metadata": {},
   "outputs": [],
   "source": [
    "def nearestNeighborsGlove(embeddings: Dict[str, npt.NDArray], w:str, k = 5)-> List[str]:\n",
    "    inputEmbedding = embeddings[w]\n",
    "    return nearestNeighborsByEmbedding(embeddings, inputEmbedding, k)[1:]\n",
    "\n",
    "def nearestNeighborsByEmbedding(embeddings: Dict[str, npt.NDArray], inputEmbedding:npt.NDArray, k = 5)-> List[str]:\n",
    "    order = lambda candidate: spatial.distance.euclidean(embeddings[candidate], inputEmbedding)\n",
    "    ranks = sorted(embeddings.keys(), key=order)\n",
    "    return ranks[:k]\n",
    "\n",
    "def riddle(embeddings: Dict[str, npt.NDArray], words: List[str]) -> str:\n",
    "    inputEmbeddings = [embeddings[w] for w in words]\n",
    "    combined = functools.reduce(lambda a, b: a + b, inputEmbeddings) # should we average?\n",
    "    return nearestNeighborsByEmbedding(embeddings, combined)\n",
    "\n",
    "def analogy(embeddings: Dict[str, npt.NDArray], w1: str, w2:str, w11:str) -> str:\n",
    "    combined = embeddings[w1] - embeddings[w2] + embeddings[w11]\n",
    "    return nearestNeighborsByEmbedding(embeddings, combined)[0]\n",
    "    "
   ]
  },
  {
   "cell_type": "code",
   "execution_count": 13,
   "id": "cf930259-113a-4b3b-afde-87a766f16ec5",
   "metadata": {},
   "outputs": [
    {
     "data": {
      "text/plain": [
       "['which', 'part', 'of', 'in']"
      ]
     },
     "execution_count": 13,
     "metadata": {},
     "output_type": "execute_result"
    }
   ],
   "source": [
    "nearestNeighborsGlove(embeddings, \"the\")"
   ]
  },
  {
   "cell_type": "code",
   "execution_count": 14,
   "id": "c32d1038-504b-4267-a20f-3c02cafda4e5",
   "metadata": {},
   "outputs": [
    {
     "data": {
      "text/plain": [
       "['ronaldinho', 'rivaldo', 'ronaldo', 'figo']"
      ]
     },
     "execution_count": 14,
     "metadata": {},
     "output_type": "execute_result"
    }
   ],
   "source": [
    "nearestNeighborsGlove(embeddings, \"messi\")"
   ]
  },
  {
   "cell_type": "code",
   "execution_count": 15,
   "id": "ba2ee920-0ddb-47c5-bb63-caf12e9f994a",
   "metadata": {},
   "outputs": [
    {
     "data": {
      "text/plain": [
       "['madrid',\n",
       " 'valencia',\n",
       " 'porto',\n",
       " 'monaco',\n",
       " 'marseille',\n",
       " 'milan',\n",
       " 'sevilla',\n",
       " 'juventus',\n",
       " 'villarreal']"
      ]
     },
     "execution_count": 15,
     "metadata": {},
     "output_type": "execute_result"
    }
   ],
   "source": [
    "nearestNeighborsGlove(embeddings, \"barcelona\", k=10)"
   ]
  },
  {
   "cell_type": "code",
   "execution_count": 16,
   "id": "837291ba-01eb-43e7-a8ab-f7b9b95ad3fa",
   "metadata": {},
   "outputs": [
    {
     "data": {
      "text/plain": [
       "['scotland',\n",
       " 'wales',\n",
       " 'ireland',\n",
       " 'newcastle',\n",
       " 'australia',\n",
       " 'manchester',\n",
       " 'zealand',\n",
       " 'indies',\n",
       " 'scottish']"
      ]
     },
     "execution_count": 16,
     "metadata": {},
     "output_type": "execute_result"
    }
   ],
   "source": [
    "nearestNeighborsGlove(embeddings, \"england\", k=10)"
   ]
  },
  {
   "cell_type": "code",
   "execution_count": 17,
   "id": "7c1f985f-1dcc-4186-8116-eddcaff96570",
   "metadata": {},
   "outputs": [
    {
     "data": {
      "text/plain": [
       "['ronaldo', 'ronaldinho', 'messi', 'striker', 'barcelona']"
      ]
     },
     "execution_count": 17,
     "metadata": {},
     "output_type": "execute_result"
    }
   ],
   "source": [
    "riddle(embeddings, [\"messi\", \"barcelona\", \"ronaldo\"])"
   ]
  },
  {
   "cell_type": "code",
   "execution_count": 18,
   "id": "98ea24fc-3c36-417f-a3f3-cb7b968d3629",
   "metadata": {},
   "outputs": [
    {
     "data": {
      "text/plain": [
       "'king'"
      ]
     },
     "execution_count": 18,
     "metadata": {},
     "output_type": "execute_result"
    }
   ],
   "source": [
    "analogy(embeddings, \"king\", \"man\", \"woman\")"
   ]
  },
  {
   "cell_type": "code",
   "execution_count": 19,
   "id": "1a41684a-78d4-4ca7-ba52-ce4dc830c7c1",
   "metadata": {},
   "outputs": [
    {
     "data": {
      "text/plain": [
       "'fingernails'"
      ]
     },
     "execution_count": 19,
     "metadata": {},
     "output_type": "execute_result"
    }
   ],
   "source": [
    "analogy(embeddings, \"twig\", \"branch\", \"hand\")"
   ]
  },
  {
   "cell_type": "code",
   "execution_count": 20,
   "id": "7c7008a0-4c23-4bad-94bc-61e7ab6e3902",
   "metadata": {},
   "outputs": [],
   "source": [
    "tsne = TSNE(n_components=2, random_state=0)"
   ]
  },
  {
   "cell_type": "code",
   "execution_count": 25,
   "id": "392fa52a-d6ef-4379-8864-5dc0e8ab40d1",
   "metadata": {},
   "outputs": [
    {
     "name": "stderr",
     "output_type": "stream",
     "text": [
      "C:\\Users\\adhocmaster\\anaconda3\\envs\\nlptf\\lib\\site-packages\\sklearn\\manifold\\_t_sne.py:800: FutureWarning: The default initialization in TSNE will change from 'random' to 'pca' in 1.2.\n",
      "  warnings.warn(\n",
      "C:\\Users\\adhocmaster\\anaconda3\\envs\\nlptf\\lib\\site-packages\\sklearn\\manifold\\_t_sne.py:810: FutureWarning: The default learning rate in TSNE will change from 200.0 to 'auto' in 1.2.\n",
      "  warnings.warn(\n"
     ]
    }
   ],
   "source": [
    "words =  list(embeddings.keys())\n",
    "# words = [\"sister\", \"brother\", \"man\", \"woman\", \"uncle\", \"aunt\"]\n",
    "vectors = np.asarray([embeddings[word] for word in words])\n",
    "Y = tsne.fit_transform(vectors[:1000])\n",
    "# Y = tsne.fit_transform(vectors)\n"
   ]
  },
  {
   "cell_type": "code",
   "execution_count": 27,
   "id": "3fde9fa8-e462-4485-a541-e7665aeb9dd1",
   "metadata": {},
   "outputs": [
    {
     "name": "stdout",
     "output_type": "stream",
     "text": [
      "Using matplotlib backend: TkAgg\n"
     ]
    }
   ],
   "source": [
    "%matplotlib auto\n",
    "for label, x, y in zip(words, Y[:100, 0], Y[:100, 1]):\n",
    "    plt.scatter(x,y)\n",
    "    plt.annotate(label, xy=(x, y), xytext=(0, 0), textcoords=\"offset points\")\n",
    "plt.show()"
   ]
  },
  {
   "cell_type": "code",
   "execution_count": null,
   "id": "4b618a85-03ea-4e8b-bcd1-849219258295",
   "metadata": {},
   "outputs": [],
   "source": []
  }
 ],
 "metadata": {
  "kernelspec": {
   "display_name": "Python 3 (ipykernel)",
   "language": "python",
   "name": "python3"
  },
  "language_info": {
   "codemirror_mode": {
    "name": "ipython",
    "version": 3
   },
   "file_extension": ".py",
   "mimetype": "text/x-python",
   "name": "python",
   "nbconvert_exporter": "python",
   "pygments_lexer": "ipython3",
   "version": "3.8.12"
  }
 },
 "nbformat": 4,
 "nbformat_minor": 5
}

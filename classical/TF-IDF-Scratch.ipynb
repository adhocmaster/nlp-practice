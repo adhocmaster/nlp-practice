{
 "cells": [
  {
   "cell_type": "code",
   "execution_count": 31,
   "id": "2e7a4dfc-2d76-43f9-b56c-591616f4863f",
   "metadata": {},
   "outputs": [
    {
     "name": "stdout",
     "output_type": "stream",
     "text": [
      "The autoreload extension is already loaded. To reload it, use:\n",
      "  %reload_ext autoreload\n"
     ]
    }
   ],
   "source": [
    "import pandas as pd\n",
    "import numpy as np\n",
    "import numpy.typing as npt\n",
    "import nltk\n",
    "import seaborn as sns\n",
    "import tqdm\n",
    "import os\n",
    "\n",
    "from nltk import word_tokenize\n",
    "%load_ext autoreload\n",
    "%autoreload 2"
   ]
  },
  {
   "cell_type": "code",
   "execution_count": null,
   "id": "83e124f2-a0f7-4c85-a460-f11feded4024",
   "metadata": {},
   "outputs": [],
   "source": []
  },
  {
   "cell_type": "code",
   "execution_count": 2,
   "id": "72ad03b3-168d-43a1-b854-1d166ffe99f8",
   "metadata": {},
   "outputs": [],
   "source": [
    "from nltk.corpus import stopwords"
   ]
  },
  {
   "cell_type": "code",
   "execution_count": 3,
   "id": "042a84bd-0a35-4f98-adea-a3b50dcbb5eb",
   "metadata": {},
   "outputs": [],
   "source": [
    "from common_preprocess import *"
   ]
  },
  {
   "cell_type": "code",
   "execution_count": 4,
   "id": "3d024eef-f226-417e-bfef-c5b6a61942aa",
   "metadata": {},
   "outputs": [
    {
     "name": "stderr",
     "output_type": "stream",
     "text": [
      "[nltk_data] Downloading package punkt to\n",
      "[nltk_data]     C:\\Users\\adhocmaster\\AppData\\Roaming\\nltk_data...\n",
      "[nltk_data]   Package punkt is already up-to-date!\n"
     ]
    },
    {
     "data": {
      "text/plain": [
       "True"
      ]
     },
     "execution_count": 4,
     "metadata": {},
     "output_type": "execute_result"
    }
   ],
   "source": [
    "nltk.download('punkt')"
   ]
  },
  {
   "cell_type": "code",
   "execution_count": 5,
   "id": "ac4873f7-ba82-45cb-8d3f-649b1b0554bd",
   "metadata": {},
   "outputs": [
    {
     "data": {
      "text/plain": [
       "'Ad sales boost Time Warner profit\\n\\nQuarterly profits at US media giant TimeWarner jumped 76% to $1.13bn (£600m) for the three months to December, from $639m year-earlier.\\n\\nThe firm, which is now one of the biggest investors in Google, benefited from sales of high-speed internet connections and higher advert sales. TimeWarner said fourth quarter sales rose 2% to $11.1bn from $10.9bn. Its profits were buoyed by one-off gains which offset a profit dip at Warner Bros, and less users for AOL.\\n\\nTime Warner said on Friday that it now owns 8% of search-engine Google. But its own internet business, AOL, had has mixed fortunes. It lost 464,000 subscribers in the fourth quarter profits were lower than in the preceding three quarters. However, the company said AOL\\'s underlying profit before exceptional items rose 8% on the back of stronger internet advertising revenues. It hopes to increase subscribers by offering the online service free to TimeWarner internet customers and will try to sign up AOL\\'s existing customers for high-speed broadband. TimeWarner also has to restate 2000 and 2003 results following a probe by the US Securities Exchange Commission (SEC), which is close to concluding.\\n\\nTime Warner\\'s fourth quarter profits were slightly better than analysts\\' expectations. But its film division saw profits slump 27% to $284m, helped by box-office flops Alexander and Catwoman, a sharp contrast to year-earlier, when the third and final film in the Lord of the Rings trilogy boosted results. For the full-year, TimeWarner posted a profit of $3.36bn, up 27% from its 2003 performance, while revenues grew 6.4% to $42.09bn. \"Our financial performance was strong, meeting or exceeding all of our full-year objectives and greatly enhancing our flexibility,\" chairman and chief executive Richard Parsons said. For 2005, TimeWarner is projecting operating earnings growth of around 5%, and also expects higher revenue and wider profit margins.\\n\\nTimeWarner is to restate its accounts as part of efforts to resolve an inquiry into AOL by US market regulators. It has already offered to pay $300m to settle charges, in a deal that is under review by the SEC. The company said it was unable to estimate the amount it needed to set aside for legal reserves, which it previously set at $500m. It intends to adjust the way it accounts for a deal with German music publisher Bertelsmann\\'s purchase of a stake in AOL Europe, which it had reported as advertising revenue. It will now book the sale of its stake in AOL Europe as a loss on the value of that stake.'"
      ]
     },
     "execution_count": 5,
     "metadata": {},
     "output_type": "execute_result"
    }
   ],
   "source": [
    "df = pd.read_csv(\"../data/bbc_text_cls.csv\")\n",
    "df.head()\n",
    "df.iloc[0][\"text\"]"
   ]
  },
  {
   "cell_type": "code",
   "execution_count": 6,
   "id": "c3de8a33-2d2d-4312-99aa-adb0002b593e",
   "metadata": {},
   "outputs": [],
   "source": [
    "# step 1. lemmatize all\n",
    "df[\"text\"] = lemmatize(df[\"text\"]) # wtf is this? It only removes white spaces?"
   ]
  },
  {
   "cell_type": "code",
   "execution_count": 7,
   "id": "2725e7f2-9979-4f56-89bb-b976b917144d",
   "metadata": {},
   "outputs": [
    {
     "data": {
      "text/plain": [
       "\"Ad sale boost Time Warner profit Quarterly profit at US medium giant TimeWarner jump 76 % to $ 1.13bn ( £600m ) for the three month to December , from $ 639m year-earlier . The firm , which be now one of the big investor in Google , benefit from sale of high-speed internet connection and high advert sale . TimeWarner say fourth quarter sale rise 2 % to $ 11.1bn from $ 10.9bn . Its profit be buoy by one-off gain which offset a profit dip at Warner Bros , and less user for AOL . Time Warner say on Friday that it now own 8 % of search-engine Google . But it own internet business , AOL , have have mix fortune . It lose 464,000 subscriber in the fourth quarter profit be low than in the preceding three quarter . However , the company say AOL 's underlying profit before exceptional item rise 8 % on the back of strong internet advertising revenue . It hop to increase subscriber by offer the online service free to TimeWarner internet customer and will try to sign up AOL 's exist customer for high-speed broadband . TimeWarner also have to restate 2000 and 2003 result follow a probe by the US Securities Exchange Commission ( SEC ) , which be close to conclude . Time Warner 's fourth quarter profit be slightly good than analyst ' expectation . But it film division saw profit slump 27 % to $ 284m , help by box-office flop Alexander and Catwoman , a sharp contrast to year-earlier , when the third and final film in the Lord of the Rings trilogy boost result . For the full-year , TimeWarner post a profit of $ 3.36bn , up 27 % from it 2003 performance , while revenue grow 6.4 % to $ 42.09bn . `` Our financial performance be strong , meeting or exceed all of our full-year objective and greatly enhance our flexibility , '' chairman and chief executive Richard Parsons say . For 2005 , TimeWarner be project operate earnings growth of around 5 % , and also expect high revenue and wider profit margin . TimeWarner be to restate it account a part of effort to resolve an inquiry into AOL by US market regulator . It have already offer to pay $ 300m to settle charge , in a deal that be under review by the SEC . The company say it be unable to estimate the amount it need to set aside for legal reserve , which it previously set at $ 500m . It intend to adjust the way it account for a deal with German music publisher Bertelsmann 's purchase of a stake in AOL Europe , which it have report a advertising revenue . It will now book the sale of it stake in AOL Europe a a loss on the value of that stake .\""
      ]
     },
     "execution_count": 7,
     "metadata": {},
     "output_type": "execute_result"
    }
   ],
   "source": [
    "df.head()\n",
    "df.iloc[0][\"text\"]"
   ]
  },
  {
   "cell_type": "code",
   "execution_count": 8,
   "id": "ef86ce28-a59f-4551-9785-5c9ee34f6ca5",
   "metadata": {},
   "outputs": [],
   "source": [
    "# tokens samples\n",
    "words = word_tokenize(df.iloc[0]['text'])\n",
    "# words"
   ]
  },
  {
   "cell_type": "code",
   "execution_count": 9,
   "id": "b2db4e9b-e084-413d-a7f1-fdba171e4dc4",
   "metadata": {},
   "outputs": [
    {
     "name": "stdout",
     "output_type": "stream",
     "text": [
      "say 8829\n",
      "mr 2994\n",
      "year 2828\n",
      "would 2629\n",
      "make 2209\n",
      "also 2156\n",
      "people 2045\n",
      "new 1980\n",
      "one 1807\n",
      "take 1736\n"
     ]
    },
    {
     "data": {
      "text/plain": [
       "['say', 'mr', 'year', 'would', 'make', 'also', 'people', 'new', 'one', 'take']"
      ]
     },
     "execution_count": 9,
     "metadata": {},
     "output_type": "execute_result"
    }
   ],
   "source": [
    "topWords = getTopWords(\n",
    "    word_tokenize, \n",
    "    df[\"text\"], \n",
    "    maxSize = 10,\n",
    "    stopWords=stopwords.words('english')\n",
    ")\n",
    "topWords"
   ]
  },
  {
   "cell_type": "code",
   "execution_count": 10,
   "id": "2a53329a-10e0-4feb-b9d6-02d7a87f5716",
   "metadata": {},
   "outputs": [
    {
     "name": "stdout",
     "output_type": "stream",
     "text": [
      "the 52599\n",
      "be 30732\n",
      "to 24984\n",
      "a 22363\n",
      "of 19970\n",
      "and 18572\n",
      "in 17626\n",
      "have 12584\n",
      "it 10068\n",
      "for 8918\n"
     ]
    },
    {
     "data": {
      "text/plain": [
       "['the', 'be', 'to', 'a', 'of', 'and', 'in', 'have', 'it', 'for']"
      ]
     },
     "execution_count": 10,
     "metadata": {},
     "output_type": "execute_result"
    }
   ],
   "source": [
    "topWords = getTopWords(\n",
    "    word_tokenize, \n",
    "    df[\"text\"], \n",
    "    maxSize = 10,\n",
    "    stopWords = None\n",
    ")\n",
    "topWords"
   ]
  },
  {
   "cell_type": "code",
   "execution_count": 11,
   "id": "742b6f14-3bb7-4f43-b185-ddbecc1abbd6",
   "metadata": {},
   "outputs": [
    {
     "name": "stdout",
     "output_type": "stream",
     "text": [
      "say 8829\n",
      "mr 2994\n",
      "year 2828\n",
      "would 2629\n",
      "make 2209\n",
      "also 2156\n",
      "people 2045\n",
      "new 1980\n",
      "one 1807\n",
      "take 1736\n"
     ]
    }
   ],
   "source": [
    "wordToIndex = buildWordToIndex (\n",
    "    word_tokenize, \n",
    "    df[\"text\"], \n",
    "    maxSize = 5000,\n",
    "    stopWords=stopwords.words('english'),\n",
    "    lowercase=True,\n",
    "    \n",
    ")\n",
    "# wordToIndex"
   ]
  },
  {
   "cell_type": "code",
   "execution_count": 12,
   "id": "0dc17fea-83e3-49bc-ab8a-bf1592af7ed8",
   "metadata": {},
   "outputs": [
    {
     "name": "stdout",
     "output_type": "stream",
     "text": [
      "most frequents: say mr year would\n"
     ]
    }
   ],
   "source": [
    "idxToWord = {v: k for k, v in wordToIndex.items()}\n",
    "print(\"most frequents:\", idxToWord[0], idxToWord[1], idxToWord[2], idxToWord[3])"
   ]
  },
  {
   "cell_type": "code",
   "execution_count": 13,
   "id": "c9de57ca-e0bf-4086-a2d0-67a0d0b7f586",
   "metadata": {},
   "outputs": [
    {
     "name": "stdout",
     "output_type": "stream",
     "text": [
      "333 profit 3133\n"
     ]
    },
    {
     "data": {
      "text/plain": [
       "array([[0., 0., 0., 0., 0., 0., 0.],\n",
       "       [0., 0., 0., 0., 0., 0., 0.],\n",
       "       [0., 0., 0., 0., 0., 0., 0.],\n",
       "       [0., 0., 0., 0., 0., 0., 0.],\n",
       "       [0., 0., 0., 0., 0., 0., 0.]])"
      ]
     },
     "execution_count": 13,
     "metadata": {},
     "output_type": "execute_result"
    }
   ],
   "source": [
    "os.environ[\"TQDM_DISABLE\"]=\"1\"\n",
    "tf = getTermFreqMatrix(word_tokenize, df[\"text\"], wordToIndex, lowercase=True)\n",
    "assert tf.sum() > 0\n",
    "assert tf[0, :].sum() > 0\n",
    "for i in range(tf.shape[0]):\n",
    "    assert tf[i, :].sum() > 0\n",
    "    \n",
    "mostFreqFirst = np.argmax(tf[0, :])\n",
    "print(mostFreqFirst, idxToWord[mostFreqFirst], wordToIndex[\"n\"]) # n is a word!\n",
    "tf[:5, 3133:3140]\n"
   ]
  },
  {
   "cell_type": "code",
   "execution_count": 20,
   "id": "3f56eb0c-e24c-42c2-bf9f-e400a7f931c6",
   "metadata": {},
   "outputs": [
    {
     "data": {
      "text/plain": [
       "8829.0"
      ]
     },
     "execution_count": 20,
     "metadata": {},
     "output_type": "execute_result"
    }
   ],
   "source": [
    "tf[:, 0].sum()"
   ]
  },
  {
   "cell_type": "code",
   "execution_count": 21,
   "id": "91a65660-de80-409d-b64e-1c5d71739358",
   "metadata": {},
   "outputs": [
    {
     "data": {
      "text/plain": [
       "2225"
      ]
     },
     "execution_count": 21,
     "metadata": {},
     "output_type": "execute_result"
    }
   ],
   "source": [
    "len(df)"
   ]
  },
  {
   "cell_type": "code",
   "execution_count": 22,
   "id": "9a0a9a5c-83a7-4a9e-9d1a-1fdcdb3e7bcb",
   "metadata": {},
   "outputs": [
    {
     "name": "stdout",
     "output_type": "stream",
     "text": [
      "220.0 2513\n"
     ]
    }
   ],
   "source": [
    "print(tf[0].sum(), len(df[\"text\"].iloc[0]))"
   ]
  },
  {
   "cell_type": "code",
   "execution_count": 44,
   "id": "b9129a55-79a8-4f3e-854e-2b8b010698e3",
   "metadata": {},
   "outputs": [],
   "source": [
    "def getDf(tf: npt.NDArray) -> npt.NDArray:\n",
    "    exists = tf > 0\n",
    "    return exists.sum(axis=0)\n",
    "\n",
    "def getIDF(nDocs: int, docF: npt.NDArray) -> npt.NDArray:\n",
    "    return np.log(nDocs / docF)\n",
    "\n",
    "def getTFIDF(tf: npt.NDArray, idf: npt.NDArray) -> npt.NDArray:\n",
    "    # each doc needs to be multiplied by idf, the broadcast should automatically work\n",
    "    return tf * idf\n",
    "    "
   ]
  },
  {
   "cell_type": "code",
   "execution_count": 45,
   "id": "17d75a40-5a74-4cb7-a601-dfffbe49e1d9",
   "metadata": {},
   "outputs": [],
   "source": [
    "docF = getDf(tf)\n",
    "idf = getIDF(len(df), docF)\n",
    "tfIdf = getTFIDF(tf, idf)"
   ]
  },
  {
   "cell_type": "code",
   "execution_count": 41,
   "id": "7df90cdc-3c90-4699-b79c-3f2c6467c406",
   "metadata": {},
   "outputs": [
    {
     "data": {
      "text/plain": [
       "array([1962,  789, 1321, 1156, 1175, 1265,  797,  982, 1042, 1026])"
      ]
     },
     "execution_count": 41,
     "metadata": {},
     "output_type": "execute_result"
    }
   ],
   "source": [
    "docF[0: 10]"
   ]
  },
  {
   "cell_type": "code",
   "execution_count": 42,
   "id": "67ae2420-c9b1-4bb7-8f40-4adbdcf6153f",
   "metadata": {},
   "outputs": [
    {
     "data": {
      "text/plain": [
       "array([8829., 2994., 2828., 2629., 2209., 2156., 2045., 1980., 1807.,\n",
       "       1736.])"
      ]
     },
     "execution_count": 42,
     "metadata": {},
     "output_type": "execute_result"
    }
   ],
   "source": [
    "tf[:, :].sum(axis=0)[0:10]"
   ]
  },
  {
   "cell_type": "code",
   "execution_count": 43,
   "id": "e80cb899-0554-4842-bc33-febf900343a7",
   "metadata": {},
   "outputs": [
    {
     "data": {
      "text/plain": [
       "array([0.12579255, 1.03674587, 0.52136789, 0.65479115, 0.63848877,\n",
       "       0.56468479, 1.02665752, 0.81792089, 0.75861497, 0.77408917])"
      ]
     },
     "execution_count": 43,
     "metadata": {},
     "output_type": "execute_result"
    }
   ],
   "source": [
    "idf[0:10]"
   ]
  },
  {
   "cell_type": "code",
   "execution_count": 46,
   "id": "a7277021-cba7-4bc4-a319-d53ea5e79610",
   "metadata": {},
   "outputs": [
    {
     "data": {
      "text/plain": [
       "array([[0.62896277, 0.        , 0.        , ..., 0.        , 0.        ,\n",
       "        0.        ],\n",
       "       [0.25158511, 1.03674587, 0.52136789, ..., 0.        , 0.        ,\n",
       "        0.        ],\n",
       "       [0.50317022, 0.        , 0.        , ..., 0.        , 0.        ,\n",
       "        0.        ],\n",
       "       ...,\n",
       "       [0.37737766, 2.07349175, 1.04273578, ..., 0.        , 0.        ,\n",
       "        0.        ],\n",
       "       [0.37737766, 0.        , 1.04273578, ..., 0.        , 0.        ,\n",
       "        0.        ],\n",
       "       [0.12579255, 0.        , 0.52136789, ..., 0.        , 0.        ,\n",
       "        0.        ]])"
      ]
     },
     "execution_count": 46,
     "metadata": {},
     "output_type": "execute_result"
    }
   ],
   "source": [
    "tfIdf[0:10]"
   ]
  },
  {
   "cell_type": "code",
   "execution_count": 87,
   "id": "37b72e86-6529-4c96-bc1a-1fb06c413039",
   "metadata": {},
   "outputs": [],
   "source": [
    "# Exercise top terms\n",
    "def topTerms(docIdx: int, tfidf: npt.NDArray, idxToWord: Dict[int, str]) -> List[str]:\n",
    "    # words = word_tokenize(doc)\n",
    "    row = tfidf[docIdx, :]\n",
    "    # top5Idx = np.argpartition(row, -5)[-5:].tolist()\n",
    "    # print(top5Idx)\n",
    "    indices = (-row).argsort()\n",
    "    top5Idx = indices[:5]\n",
    "    topW = [idxToWord[i] for i in top5Idx]\n",
    "    return topW\n",
    "    \n",
    "    "
   ]
  },
  {
   "cell_type": "code",
   "execution_count": 93,
   "id": "e84c5454-d5a9-4dc0-9270-cc9dcdf3b083",
   "metadata": {},
   "outputs": [
    {
     "name": "stdout",
     "output_type": "stream",
     "text": [
      "['aol', 'profit', 'warner', 'revenue', 'restate']\n",
      "['deficit', 'dollar', 'greenspan', 'currency', 'chinese']\n"
     ]
    }
   ],
   "source": [
    "print(topTerms(0, tfIdf, idxToWord))\n",
    "print(topTerms(1, tfIdf, idxToWord))"
   ]
  },
  {
   "cell_type": "code",
   "execution_count": 94,
   "id": "a86a8e23-5217-4351-be46-6dd0438ce59f",
   "metadata": {},
   "outputs": [
    {
     "name": "stdout",
     "output_type": "stream",
     "text": [
      "['timewarner', 'aol', 'profit', 'warner', 'revenue']\n",
      "['deficit', 'dollar', 'greenspan', 'currency', 'chinese']\n"
     ]
    }
   ],
   "source": [
    "# do the same thing with sk learn\n",
    "from sklearn.feature_extraction.text import TfidfVectorizer\n",
    "vectorizer = TfidfVectorizer(stop_words='english')\n",
    "X = vectorizer.fit_transform(df['text'])\n",
    "tfIdf2 = X.toarray()\n",
    "idxToWord2 = {v: k for k, v in vectorizer.vocabulary_.items()}\n",
    "print(topTerms(0, tfIdf2, idxToWord2))\n",
    "print(topTerms(1, tfIdf2, idxToWord2))"
   ]
  },
  {
   "cell_type": "code",
   "execution_count": 95,
   "id": "e92b12f2-7d86-4a0a-b4fa-843198969e07",
   "metadata": {},
   "outputs": [
    {
     "name": "stdout",
     "output_type": "stream",
     "text": [
      "['profit', 'aol', 'timewarner', 'say', 'sale']\n",
      "['dollar', 'deficit', 'recent', 'month', 'reserve']\n"
     ]
    }
   ],
   "source": [
    "# Exercise: use CountVectorizer to form the counts instead\n",
    "from sklearn.feature_extraction.text import CountVectorizer\n",
    "\n",
    "vectorizer = CountVectorizer(stop_words='english')\n",
    "X = vectorizer.fit_transform(df['text'])\n",
    "wordFreq = X.toarray()\n",
    "idxToWord2 = {v: k for k, v in vectorizer.vocabulary_.items()}\n",
    "print(topTerms(0, wordFreq, idxToWord2))\n",
    "print(topTerms(1, wordFreq, idxToWord2))\n"
   ]
  },
  {
   "cell_type": "code",
   "execution_count": null,
   "id": "35e21ad1-aef3-4a6d-84c4-9f574bb81de1",
   "metadata": {},
   "outputs": [],
   "source": []
  }
 ],
 "metadata": {
  "kernelspec": {
   "display_name": "Python 3 (ipykernel)",
   "language": "python",
   "name": "python3"
  },
  "language_info": {
   "codemirror_mode": {
    "name": "ipython",
    "version": 3
   },
   "file_extension": ".py",
   "mimetype": "text/x-python",
   "name": "python",
   "nbconvert_exporter": "python",
   "pygments_lexer": "ipython3",
   "version": "3.8.12"
  }
 },
 "nbformat": 4,
 "nbformat_minor": 5
}

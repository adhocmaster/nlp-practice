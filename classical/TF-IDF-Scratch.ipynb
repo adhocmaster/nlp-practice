{
 "cells": [
  {
   "cell_type": "code",
   "execution_count": null,
   "id": "2e7a4dfc-2d76-43f9-b56c-591616f4863f",
   "metadata": {},
   "outputs": [],
   "source": [
    "import pandas as pd\n",
    "import numpy as np\n",
    "import nltk\n",
    "import seaborn as sns\n",
    "\n",
    "from nltk import word_tokenize\n",
    "%load_ext autoreload\n",
    "%autoreload 2"
   ]
  },
  {
   "cell_type": "code",
   "execution_count": null,
   "id": "72ad03b3-168d-43a1-b854-1d166ffe99f8",
   "metadata": {},
   "outputs": [],
   "source": [
    "from nltk.corpus import stopwords"
   ]
  },
  {
   "cell_type": "code",
   "execution_count": 40,
   "id": "042a84bd-0a35-4f98-adea-a3b50dcbb5eb",
   "metadata": {},
   "outputs": [],
   "source": [
    "from common_preprocess import *"
   ]
  },
  {
   "cell_type": "code",
   "execution_count": null,
   "id": "3d024eef-f226-417e-bfef-c5b6a61942aa",
   "metadata": {},
   "outputs": [],
   "source": [
    "nltk.download('punkt')"
   ]
  },
  {
   "cell_type": "code",
   "execution_count": null,
   "id": "ac4873f7-ba82-45cb-8d3f-649b1b0554bd",
   "metadata": {},
   "outputs": [],
   "source": [
    "df = pd.read_csv(\"../data/bbc_text_cls.csv\")\n",
    "df.head()"
   ]
  },
  {
   "cell_type": "code",
   "execution_count": null,
   "id": "ef86ce28-a59f-4551-9785-5c9ee34f6ca5",
   "metadata": {},
   "outputs": [],
   "source": [
    "# tokens samples\n",
    "words = word_tokenize(df.iloc[0]['text'])\n",
    "# words"
   ]
  },
  {
   "cell_type": "code",
   "execution_count": null,
   "id": "b2db4e9b-e084-413d-a7f1-fdba171e4dc4",
   "metadata": {},
   "outputs": [],
   "source": [
    "topWords = getTopWords(\n",
    "    word_tokenize, \n",
    "    df[\"text\"], \n",
    "    maxSize = 10,\n",
    "    stopWords=stopwords.words('english')\n",
    ")\n",
    "topWords"
   ]
  },
  {
   "cell_type": "code",
   "execution_count": null,
   "id": "2a53329a-10e0-4feb-b9d6-02d7a87f5716",
   "metadata": {},
   "outputs": [],
   "source": [
    "topWords = getTopWords(\n",
    "    word_tokenize, \n",
    "    df[\"text\"], \n",
    "    maxSize = 10,\n",
    "    stopWords = None\n",
    ")\n",
    "topWords"
   ]
  },
  {
   "cell_type": "code",
   "execution_count": null,
   "id": "742b6f14-3bb7-4f43-b185-ddbecc1abbd6",
   "metadata": {},
   "outputs": [],
   "source": [
    "wordToIndex = buildWordToIndex (\n",
    "    word_tokenize, \n",
    "    df[\"text\"], \n",
    "    maxSize = 10,\n",
    "    stopWords=stopwords.words('english')\n",
    ")\n",
    "wordToIndex"
   ]
  },
  {
   "cell_type": "code",
   "execution_count": 41,
   "id": "c9de57ca-e0bf-4086-a2d0-67a0d0b7f586",
   "metadata": {},
   "outputs": [
    {
     "name": "stdout",
     "output_type": "stream",
     "text": [
      "Counter({'t': 2, 'e': 1, 'x': 1})\n",
      "t is not in the doc\n",
      "e is not in the doc\n",
      "x is not in the doc\n",
      "Counter({'l': 2, 'a': 1, 'b': 1, 'e': 1, 's': 1})\n",
      "l is not in the doc\n",
      "a is not in the doc\n",
      "b is not in the doc\n",
      "e is not in the doc\n",
      "s is not in the doc\n"
     ]
    },
    {
     "ename": "AssertionError",
     "evalue": "",
     "output_type": "error",
     "traceback": [
      "\u001b[1;31m---------------------------------------------------------------------------\u001b[0m",
      "\u001b[1;31mAssertionError\u001b[0m                            Traceback (most recent call last)",
      "Cell \u001b[1;32mIn [41], line 2\u001b[0m\n\u001b[0;32m      1\u001b[0m tf \u001b[38;5;241m=\u001b[39m getTermFreqMatrix(df, wordToIndex)\n\u001b[1;32m----> 2\u001b[0m \u001b[38;5;28;01massert\u001b[39;00m tf\u001b[38;5;241m.\u001b[39msum() \u001b[38;5;241m>\u001b[39m \u001b[38;5;241m0\u001b[39m\n\u001b[0;32m      3\u001b[0m tf[:\u001b[38;5;241m2\u001b[39m, :\u001b[38;5;241m10\u001b[39m]\n",
      "\u001b[1;31mAssertionError\u001b[0m: "
     ]
    }
   ],
   "source": [
    "tf = getTermFreqMatrix(df[\"text\"], wordToIndex)\n",
    "assert tf.sum() > 0\n",
    "tf[:2, :10]"
   ]
  },
  {
   "cell_type": "code",
   "execution_count": null,
   "id": "91a65660-de80-409d-b64e-1c5d71739358",
   "metadata": {},
   "outputs": [],
   "source": [
    "len(df)"
   ]
  },
  {
   "cell_type": "code",
   "execution_count": null,
   "id": "9a0a9a5c-83a7-4a9e-9d1a-1fdcdb3e7bcb",
   "metadata": {},
   "outputs": [],
   "source": [
    "tf[0].sum()"
   ]
  },
  {
   "cell_type": "code",
   "execution_count": null,
   "id": "07d315d5-4e60-47a7-a4e0-4e883ebe15b7",
   "metadata": {},
   "outputs": [],
   "source": [
    "atf.sum()"
   ]
  },
  {
   "cell_type": "code",
   "execution_count": null,
   "id": "17d75a40-5a74-4cb7-a601-dfffbe49e1d9",
   "metadata": {},
   "outputs": [],
   "source": []
  },
  {
   "cell_type": "code",
   "execution_count": null,
   "id": "7df90cdc-3c90-4699-b79c-3f2c6467c406",
   "metadata": {},
   "outputs": [],
   "source": []
  },
  {
   "cell_type": "code",
   "execution_count": null,
   "id": "512f5067-bf66-417c-9a1e-03da2a08a535",
   "metadata": {},
   "outputs": [],
   "source": []
  }
 ],
 "metadata": {
  "kernelspec": {
   "display_name": "Python 3 (ipykernel)",
   "language": "python",
   "name": "python3"
  },
  "language_info": {
   "codemirror_mode": {
    "name": "ipython",
    "version": 3
   },
   "file_extension": ".py",
   "mimetype": "text/x-python",
   "name": "python",
   "nbconvert_exporter": "python",
   "pygments_lexer": "ipython3",
   "version": "3.8.12"
  }
 },
 "nbformat": 4,
 "nbformat_minor": 5
}

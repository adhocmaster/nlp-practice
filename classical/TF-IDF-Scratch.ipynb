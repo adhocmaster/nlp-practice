{
 "cells": [
  {
   "cell_type": "code",
   "execution_count": 1,
   "id": "2e7a4dfc-2d76-43f9-b56c-591616f4863f",
   "metadata": {},
   "outputs": [],
   "source": [
    "import pandas as pd\n",
    "import numpy as np\n",
    "import nltk\n",
    "import seaborn as sns\n",
    "\n",
    "from nltk import word_tokenize\n",
    "%load_ext autoreload\n",
    "%autoreload 2"
   ]
  },
  {
   "cell_type": "code",
   "execution_count": 2,
   "id": "72ad03b3-168d-43a1-b854-1d166ffe99f8",
   "metadata": {},
   "outputs": [],
   "source": [
    "from nltk.corpus import stopwords"
   ]
  },
  {
   "cell_type": "code",
   "execution_count": 7,
   "id": "042a84bd-0a35-4f98-adea-a3b50dcbb5eb",
   "metadata": {},
   "outputs": [],
   "source": [
    "from common_preprocess import *"
   ]
  },
  {
   "cell_type": "code",
   "execution_count": 4,
   "id": "3d024eef-f226-417e-bfef-c5b6a61942aa",
   "metadata": {},
   "outputs": [
    {
     "name": "stderr",
     "output_type": "stream",
     "text": [
      "[nltk_data] Downloading package punkt to\n",
      "[nltk_data]     C:\\Users\\adhocmaster\\AppData\\Roaming\\nltk_data...\n",
      "[nltk_data]   Package punkt is already up-to-date!\n"
     ]
    },
    {
     "data": {
      "text/plain": [
       "True"
      ]
     },
     "execution_count": 4,
     "metadata": {},
     "output_type": "execute_result"
    }
   ],
   "source": [
    "nltk.download('punkt')"
   ]
  },
  {
   "cell_type": "code",
   "execution_count": 5,
   "id": "ac4873f7-ba82-45cb-8d3f-649b1b0554bd",
   "metadata": {},
   "outputs": [
    {
     "data": {
      "text/html": [
       "<div>\n",
       "<style scoped>\n",
       "    .dataframe tbody tr th:only-of-type {\n",
       "        vertical-align: middle;\n",
       "    }\n",
       "\n",
       "    .dataframe tbody tr th {\n",
       "        vertical-align: top;\n",
       "    }\n",
       "\n",
       "    .dataframe thead th {\n",
       "        text-align: right;\n",
       "    }\n",
       "</style>\n",
       "<table border=\"1\" class=\"dataframe\">\n",
       "  <thead>\n",
       "    <tr style=\"text-align: right;\">\n",
       "      <th></th>\n",
       "      <th>text</th>\n",
       "      <th>labels</th>\n",
       "    </tr>\n",
       "  </thead>\n",
       "  <tbody>\n",
       "    <tr>\n",
       "      <th>0</th>\n",
       "      <td>Ad sales boost Time Warner profit\\n\\nQuarterly...</td>\n",
       "      <td>business</td>\n",
       "    </tr>\n",
       "    <tr>\n",
       "      <th>1</th>\n",
       "      <td>Dollar gains on Greenspan speech\\n\\nThe dollar...</td>\n",
       "      <td>business</td>\n",
       "    </tr>\n",
       "    <tr>\n",
       "      <th>2</th>\n",
       "      <td>Yukos unit buyer faces loan claim\\n\\nThe owner...</td>\n",
       "      <td>business</td>\n",
       "    </tr>\n",
       "    <tr>\n",
       "      <th>3</th>\n",
       "      <td>High fuel prices hit BA's profits\\n\\nBritish A...</td>\n",
       "      <td>business</td>\n",
       "    </tr>\n",
       "    <tr>\n",
       "      <th>4</th>\n",
       "      <td>Pernod takeover talk lifts Domecq\\n\\nShares in...</td>\n",
       "      <td>business</td>\n",
       "    </tr>\n",
       "  </tbody>\n",
       "</table>\n",
       "</div>"
      ],
      "text/plain": [
       "                                                text    labels\n",
       "0  Ad sales boost Time Warner profit\\n\\nQuarterly...  business\n",
       "1  Dollar gains on Greenspan speech\\n\\nThe dollar...  business\n",
       "2  Yukos unit buyer faces loan claim\\n\\nThe owner...  business\n",
       "3  High fuel prices hit BA's profits\\n\\nBritish A...  business\n",
       "4  Pernod takeover talk lifts Domecq\\n\\nShares in...  business"
      ]
     },
     "execution_count": 5,
     "metadata": {},
     "output_type": "execute_result"
    }
   ],
   "source": [
    "df = pd.read_csv(\"../data/bbc_text_cls.csv\")\n",
    "df.head()"
   ]
  },
  {
   "cell_type": "code",
   "execution_count": 8,
   "id": "c3de8a33-2d2d-4312-99aa-adb0002b593e",
   "metadata": {},
   "outputs": [
    {
     "name": "stderr",
     "output_type": "stream",
     "text": [
      "lemmatizing: 100%|█████████████████████████████████████████████████████████████████████| 2225/2225 [00:40<00:00, 55.19it/s]\n"
     ]
    }
   ],
   "source": [
    "# step 1. lemmatize all\n",
    "df[\"text\"] = lemmatize(df[\"text\"])"
   ]
  },
  {
   "cell_type": "code",
   "execution_count": 10,
   "id": "2725e7f2-9979-4f56-89bb-b976b917144d",
   "metadata": {},
   "outputs": [
    {
     "data": {
      "text/html": [
       "<div>\n",
       "<style scoped>\n",
       "    .dataframe tbody tr th:only-of-type {\n",
       "        vertical-align: middle;\n",
       "    }\n",
       "\n",
       "    .dataframe tbody tr th {\n",
       "        vertical-align: top;\n",
       "    }\n",
       "\n",
       "    .dataframe thead th {\n",
       "        text-align: right;\n",
       "    }\n",
       "</style>\n",
       "<table border=\"1\" class=\"dataframe\">\n",
       "  <thead>\n",
       "    <tr style=\"text-align: right;\">\n",
       "      <th></th>\n",
       "      <th>text</th>\n",
       "      <th>labels</th>\n",
       "    </tr>\n",
       "  </thead>\n",
       "  <tbody>\n",
       "    <tr>\n",
       "      <th>0</th>\n",
       "      <td>Ad sale boost Time Warner profit Quarterly pro...</td>\n",
       "      <td>business</td>\n",
       "    </tr>\n",
       "    <tr>\n",
       "      <th>1</th>\n",
       "      <td>Dollar gain on Greenspan speech The dollar hav...</td>\n",
       "      <td>business</td>\n",
       "    </tr>\n",
       "    <tr>\n",
       "      <th>2</th>\n",
       "      <td>Yukos unit buyer face loan claim The owner of ...</td>\n",
       "      <td>business</td>\n",
       "    </tr>\n",
       "    <tr>\n",
       "      <th>3</th>\n",
       "      <td>High fuel price hit BA 's profit British Airwa...</td>\n",
       "      <td>business</td>\n",
       "    </tr>\n",
       "    <tr>\n",
       "      <th>4</th>\n",
       "      <td>Pernod takeover talk lift Domecq Shares in UK ...</td>\n",
       "      <td>business</td>\n",
       "    </tr>\n",
       "  </tbody>\n",
       "</table>\n",
       "</div>"
      ],
      "text/plain": [
       "                                                text    labels\n",
       "0  Ad sale boost Time Warner profit Quarterly pro...  business\n",
       "1  Dollar gain on Greenspan speech The dollar hav...  business\n",
       "2  Yukos unit buyer face loan claim The owner of ...  business\n",
       "3  High fuel price hit BA 's profit British Airwa...  business\n",
       "4  Pernod takeover talk lift Domecq Shares in UK ...  business"
      ]
     },
     "execution_count": 10,
     "metadata": {},
     "output_type": "execute_result"
    }
   ],
   "source": [
    "df.head()"
   ]
  },
  {
   "cell_type": "code",
   "execution_count": 11,
   "id": "ef86ce28-a59f-4551-9785-5c9ee34f6ca5",
   "metadata": {},
   "outputs": [],
   "source": [
    "# tokens samples\n",
    "words = word_tokenize(df.iloc[0]['text'])\n",
    "# words"
   ]
  },
  {
   "cell_type": "code",
   "execution_count": 12,
   "id": "b2db4e9b-e084-413d-a7f1-fdba171e4dc4",
   "metadata": {},
   "outputs": [
    {
     "name": "stderr",
     "output_type": "stream",
     "text": [
      "counting words: 100%|█████████████████████████████████████████████████████████████████| 2225/2225 [00:04<00:00, 475.78it/s]\n",
      "removing stop words: 100%|███████████████████████████████████████████████████████████| 179/179 [00:00<00:00, 178970.30it/s]\n"
     ]
    },
    {
     "data": {
      "text/plain": [
       "['say', 'mr', 'year', 'would', 'make', 'also', 'people', 'new', 'one', 'take']"
      ]
     },
     "execution_count": 12,
     "metadata": {},
     "output_type": "execute_result"
    }
   ],
   "source": [
    "topWords = getTopWords(\n",
    "    word_tokenize, \n",
    "    df[\"text\"], \n",
    "    maxSize = 10,\n",
    "    stopWords=stopwords.words('english')\n",
    ")\n",
    "topWords"
   ]
  },
  {
   "cell_type": "code",
   "execution_count": 13,
   "id": "2a53329a-10e0-4feb-b9d6-02d7a87f5716",
   "metadata": {},
   "outputs": [
    {
     "name": "stderr",
     "output_type": "stream",
     "text": [
      "counting words: 100%|█████████████████████████████████████████████████████████████████| 2225/2225 [00:04<00:00, 472.48it/s]\n"
     ]
    },
    {
     "data": {
      "text/plain": [
       "['the', 'be', 'to', 'a', 'of', 'and', 'in', 'have', 'it', 'for']"
      ]
     },
     "execution_count": 13,
     "metadata": {},
     "output_type": "execute_result"
    }
   ],
   "source": [
    "topWords = getTopWords(\n",
    "    word_tokenize, \n",
    "    df[\"text\"], \n",
    "    maxSize = 10,\n",
    "    stopWords = None\n",
    ")\n",
    "topWords"
   ]
  },
  {
   "cell_type": "code",
   "execution_count": null,
   "id": "742b6f14-3bb7-4f43-b185-ddbecc1abbd6",
   "metadata": {},
   "outputs": [],
   "source": [
    "wordToIndex = buildWordToIndex (\n",
    "    word_tokenize, \n",
    "    df[\"text\"], \n",
    "    maxSize = 5000,\n",
    "    stopWords=stopwords.words('english'),\n",
    "    lowercase=True,\n",
    "    \n",
    ")\n",
    "# wordToIndex"
   ]
  },
  {
   "cell_type": "code",
   "execution_count": 18,
   "id": "c9de57ca-e0bf-4086-a2d0-67a0d0b7f586",
   "metadata": {},
   "outputs": [
    {
     "data": {
      "text/plain": [
       "array([[0., 0., 0., 0., 0., 0., 0., 0., 0., 0.],\n",
       "       [0., 0., 0., 0., 0., 0., 0., 0., 0., 0.]])"
      ]
     },
     "execution_count": 18,
     "metadata": {},
     "output_type": "execute_result"
    }
   ],
   "source": [
    "tf = getTermFreqMatrix(df[\"text\"], wordToIndex, lowercase=True)\n",
    "assert tf.sum() > 0\n",
    "tf[:2, :10]"
   ]
  },
  {
   "cell_type": "code",
   "execution_count": null,
   "id": "91a65660-de80-409d-b64e-1c5d71739358",
   "metadata": {},
   "outputs": [],
   "source": [
    "len(df)"
   ]
  },
  {
   "cell_type": "code",
   "execution_count": 22,
   "id": "9a0a9a5c-83a7-4a9e-9d1a-1fdcdb3e7bcb",
   "metadata": {},
   "outputs": [
    {
     "name": "stdout",
     "output_type": "stream",
     "text": [
      "89.0 2513\n"
     ]
    }
   ],
   "source": [
    "print(tf[0].sum(), len(df[\"text\"].iloc[0]))"
   ]
  },
  {
   "cell_type": "code",
   "execution_count": null,
   "id": "b9129a55-79a8-4f3e-854e-2b8b010698e3",
   "metadata": {},
   "outputs": [],
   "source": []
  },
  {
   "cell_type": "code",
   "execution_count": null,
   "id": "17d75a40-5a74-4cb7-a601-dfffbe49e1d9",
   "metadata": {},
   "outputs": [],
   "source": []
  },
  {
   "cell_type": "code",
   "execution_count": null,
   "id": "7df90cdc-3c90-4699-b79c-3f2c6467c406",
   "metadata": {},
   "outputs": [],
   "source": []
  },
  {
   "cell_type": "code",
   "execution_count": null,
   "id": "512f5067-bf66-417c-9a1e-03da2a08a535",
   "metadata": {},
   "outputs": [],
   "source": []
  }
 ],
 "metadata": {
  "kernelspec": {
   "display_name": "Python 3 (ipykernel)",
   "language": "python",
   "name": "python3"
  },
  "language_info": {
   "codemirror_mode": {
    "name": "ipython",
    "version": 3
   },
   "file_extension": ".py",
   "mimetype": "text/x-python",
   "name": "python",
   "nbconvert_exporter": "python",
   "pygments_lexer": "ipython3",
   "version": "3.8.12"
  }
 },
 "nbformat": 4,
 "nbformat_minor": 5
}

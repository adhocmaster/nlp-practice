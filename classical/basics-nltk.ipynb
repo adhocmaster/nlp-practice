{
 "cells": [
  {
   "cell_type": "markdown",
   "id": "a8ac9edd-c4a4-4abc-9b29-4c0ccdd2acbf",
   "metadata": {},
   "source": [
    "# Basics Again"
   ]
  },
  {
   "cell_type": "code",
   "execution_count": 1,
   "id": "a90c60c5-028b-47c3-9036-f7c3db1426e0",
   "metadata": {},
   "outputs": [],
   "source": [
    "import pandas as pd\n",
    "import numpy as np\n",
    "import nltk\n",
    "import seaborn as sns"
   ]
  },
  {
   "cell_type": "code",
   "execution_count": 5,
   "id": "7bc604ab-2e33-46f0-a890-1a0b72d77fc3",
   "metadata": {},
   "outputs": [],
   "source": [
    "from nltk import word_tokenize, sent_tokenize\n",
    "from nltk.corpus import wordnet\n",
    "from nltk.stem import WordNetLemmatizer, PorterStemmer\n",
    "from nltk.corpus import stopwords"
   ]
  },
  {
   "cell_type": "code",
   "execution_count": 56,
   "id": "408ab7ad-89ef-4487-acba-55be4c4505aa",
   "metadata": {},
   "outputs": [],
   "source": [
    "text = \"I’m Gonna (going to) Make Him $5.5 an offers he can’t refuse easily\\n\\n. I don't like              violence. I'm a businessman. Blood is a bigger expense. Knowing is not Doing\""
   ]
  },
  {
   "cell_type": "code",
   "execution_count": 57,
   "id": "03252bf5-1012-40d2-8adc-26701c8de755",
   "metadata": {},
   "outputs": [
    {
     "data": {
      "text/plain": [
       "['I',\n",
       " '’',\n",
       " 'm',\n",
       " 'Gon',\n",
       " 'na',\n",
       " '(',\n",
       " 'going',\n",
       " 'to',\n",
       " ')',\n",
       " 'Make',\n",
       " 'Him',\n",
       " '$',\n",
       " '5.5',\n",
       " 'an',\n",
       " 'offers',\n",
       " 'he',\n",
       " 'can',\n",
       " '’',\n",
       " 't',\n",
       " 'refuse',\n",
       " 'easily',\n",
       " '.',\n",
       " 'I',\n",
       " 'do',\n",
       " \"n't\",\n",
       " 'like',\n",
       " 'violence',\n",
       " '.',\n",
       " 'I',\n",
       " \"'m\",\n",
       " 'a',\n",
       " 'businessman',\n",
       " '.',\n",
       " 'Blood',\n",
       " 'is',\n",
       " 'a',\n",
       " 'bigger',\n",
       " 'expense',\n",
       " '.',\n",
       " 'Knowing',\n",
       " 'is',\n",
       " 'not',\n",
       " 'Doing']"
      ]
     },
     "execution_count": 57,
     "metadata": {},
     "output_type": "execute_result"
    }
   ],
   "source": [
    "# word tokenize uses TreebankWordTokenizer and PunktSentenceTokenizer together. It produces dots for sentence ends only. A dot does not necessarily mean the end of a sentence.\n",
    "words = word_tokenize(text)\n",
    "words"
   ]
  },
  {
   "cell_type": "code",
   "execution_count": 53,
   "id": "13292b56-6976-45a7-82d6-e89c22df3051",
   "metadata": {},
   "outputs": [
    {
     "data": {
      "text/plain": [
       "['I’m Gonna (going to) Make Him $5.5 an offers he can’t refuse easily.',\n",
       " \"I don't like violence.\",\n",
       " \"I'm a businessman.\",\n",
       " 'Blood is a bigger expense.',\n",
       " 'Knowing is not Doing']"
      ]
     },
     "execution_count": 53,
     "metadata": {},
     "output_type": "execute_result"
    }
   ],
   "source": [
    "sent_tokenize(text)"
   ]
  },
  {
   "cell_type": "code",
   "execution_count": 54,
   "id": "6958f7f9-d6a3-4157-aedc-5bf205fcedd8",
   "metadata": {},
   "outputs": [
    {
     "data": {
      "text/plain": [
       "[('I', 'PRP'),\n",
       " ('’', 'VBP'),\n",
       " ('m', 'JJ'),\n",
       " ('Gon', 'NNP'),\n",
       " ('na', 'NN'),\n",
       " ('(', '('),\n",
       " ('going', 'VBG'),\n",
       " ('to', 'TO'),\n",
       " (')', ')'),\n",
       " ('Make', 'NNP'),\n",
       " ('Him', 'NNP'),\n",
       " ('$', '$'),\n",
       " ('5.5', 'CD'),\n",
       " ('an', 'DT'),\n",
       " ('offers', 'NNS'),\n",
       " ('he', 'PRP'),\n",
       " ('can', 'MD'),\n",
       " ('’', 'VB'),\n",
       " ('t', 'JJ'),\n",
       " ('refuse', 'NN'),\n",
       " ('easily', 'RB'),\n",
       " ('.', '.'),\n",
       " ('I', 'PRP'),\n",
       " ('do', 'VBP'),\n",
       " (\"n't\", 'RB'),\n",
       " ('like', 'VB'),\n",
       " ('violence', 'NN'),\n",
       " ('.', '.'),\n",
       " ('I', 'PRP'),\n",
       " (\"'m\", 'VBP'),\n",
       " ('a', 'DT'),\n",
       " ('businessman', 'NN'),\n",
       " ('.', '.'),\n",
       " ('Blood', 'NNP'),\n",
       " ('is', 'VBZ'),\n",
       " ('a', 'DT'),\n",
       " ('bigger', 'JJR'),\n",
       " ('expense', 'NN'),\n",
       " ('.', '.'),\n",
       " ('Knowing', 'NNP'),\n",
       " ('is', 'VBZ'),\n",
       " ('not', 'RB'),\n",
       " ('Doing', 'VBG')]"
      ]
     },
     "execution_count": 54,
     "metadata": {},
     "output_type": "execute_result"
    }
   ],
   "source": [
    "# POS \n",
    "wordsAndPos = nltk.pos_tag(words) # creates TreeBank POS\n",
    "wordsAndPos"
   ]
  },
  {
   "cell_type": "markdown",
   "id": "7fda9330-2883-4d9b-8be3-86347faa5ac5",
   "metadata": {},
   "source": [
    "# Stemmer and Lemmatizers\n",
    "There are few things to note:\n",
    "1. Sometimes a word can be a verb or a NP. So, lemmatizer cannot take decision whether to stem it or not. So, in such cases, we need to supply the POS tags\n",
    "2. It cannot lemmatize unknown words\n",
    "3. Even when POS is given, if the word is capitalized, lemmatizer may ignore the POS completely!"
   ]
  },
  {
   "cell_type": "code",
   "execution_count": 58,
   "id": "a639c96f-41ac-4778-927c-0f7423ca825d",
   "metadata": {},
   "outputs": [
    {
     "name": "stdout",
     "output_type": "stream",
     "text": [
      "dog\n",
      "unknown\n",
      "newers\n",
      "newers\n",
      "knowing\n",
      "know\n",
      "Doing\n",
      "Doing\n",
      "doing\n",
      "do\n",
      "DOING\n",
      "DOING\n",
      "I’m Gonna (going to) Make Him $5.5 an offers he can’t refuse easily\n",
      "\n",
      ". I don't like              violence. I'm a businessman. Blood is a bigger expense. Knowing is not Doing\n"
     ]
    }
   ],
   "source": [
    "lemmatizer = WordNetLemmatizer()\n",
    "print(lemmatizer.lemmatize(\"dogs\"))\n",
    "print(lemmatizer.lemmatize(\"unknowns\"))\n",
    "print(lemmatizer.lemmatize(\"newers\")) # cannot lemmatize it as it's not in the vocabulary\n",
    "\n",
    "\n",
    "print(lemmatizer.lemmatize(\"newers\", wordnet.VERB))  # cannot lemmatize it as it's not in the vocabulary\n",
    "\n",
    "\n",
    "print(lemmatizer.lemmatize(\"knowing\"))\n",
    "print(lemmatizer.lemmatize(\"knowing\", wordnet.VERB))  # converted to know\n",
    "\n",
    "print(lemmatizer.lemmatize(\"Doing\"))\n",
    "print(lemmatizer.lemmatize(\"Doing\", wordnet.VERB))  # converted to know\n",
    "\n",
    "print(lemmatizer.lemmatize(\"doing\"))\n",
    "print(lemmatizer.lemmatize(\"doing\", wordnet.VERB))  # converted to know\n",
    "print(lemmatizer.lemmatize(\"DOING\"))\n",
    "print(lemmatizer.lemmatize(\"DOING\", wordnet.VERB))  # converted to know\n",
    "\n",
    "print(lemmatizer.lemmatize(text)) # NO POS"
   ]
  },
  {
   "cell_type": "code",
   "execution_count": 40,
   "id": "68370c83-cde8-4308-b3e0-121c01bb734f",
   "metadata": {},
   "outputs": [],
   "source": [
    "\n",
    "def treebankToWordnetPOS(treebankTag: str) -> str:\n",
    "    \"\"\"\n",
    "    Wordnet Lemmatizer does not understand treebank POS. So, we need to convert\n",
    "    \"\"\"\n",
    "    if treebankTag.startswith(\"J\"):\n",
    "        return wordnet.ADJ\n",
    "    if treebankTag.startswith(\"V\"):\n",
    "        return wordnet.VERB\n",
    "    if treebankTag.startswith(\"N\"):\n",
    "        return wordnet.NOUN\n",
    "    if treebankTag.startswith(\"R\"):\n",
    "        return wordnet.ADV\n",
    "    else:\n",
    "        return wordnet.NOUN"
   ]
  },
  {
   "cell_type": "code",
   "execution_count": 43,
   "id": "07e3fe24-f3a8-47b4-96ca-5eff6f3e9e54",
   "metadata": {},
   "outputs": [
    {
     "ename": "AttributeError",
     "evalue": "'str' object has no attribute 'name'",
     "output_type": "error",
     "traceback": [
      "\u001b[1;31m---------------------------------------------------------------------------\u001b[0m",
      "\u001b[1;31mAttributeError\u001b[0m                            Traceback (most recent call last)",
      "Cell \u001b[1;32mIn [43], line 7\u001b[0m\n\u001b[0;32m      5\u001b[0m \u001b[38;5;28;01mfor\u001b[39;00m word, pos \u001b[38;5;129;01min\u001b[39;00m wordsAndPos:\n\u001b[0;32m      6\u001b[0m     wPos \u001b[38;5;241m=\u001b[39m treebankToWordnetPOS(pos)\n\u001b[1;32m----> 7\u001b[0m     \u001b[38;5;28mprint\u001b[39m(\u001b[43mwPos\u001b[49m\u001b[38;5;241;43m.\u001b[39;49m\u001b[43mname\u001b[49m)\n\u001b[0;32m      8\u001b[0m     \u001b[38;5;28mprint\u001b[39m(word, \u001b[38;5;124m'\u001b[39m\u001b[38;5;124m=>\u001b[39m\u001b[38;5;124m'\u001b[39m, lemmatizer\u001b[38;5;241m.\u001b[39mlemmatize(word, wPos))\n",
      "\u001b[1;31mAttributeError\u001b[0m: 'str' object has no attribute 'name'"
     ]
    }
   ],
   "source": [
    "\n",
    "# for word in words:\n",
    "#     print(word, '=>', lemmatizer.lemmatize(word))\n",
    "    \n",
    "    \n",
    "for word, pos in wordsAndPos:\n",
    "    wPos = treebankToWordnetPOS(pos)\n",
    "    print(wPos.name)\n",
    "    print(word, '=>', lemmatizer.lemmatize(word, wPos))"
   ]
  },
  {
   "cell_type": "code",
   "execution_count": null,
   "id": "d7b08dcf-ccb6-42a3-a2ac-6d5c56e1ed9f",
   "metadata": {},
   "outputs": [],
   "source": []
  },
  {
   "cell_type": "code",
   "execution_count": null,
   "id": "6018c5b7-097d-49b9-b9e7-66d2c9fbff71",
   "metadata": {},
   "outputs": [],
   "source": []
  }
 ],
 "metadata": {
  "kernelspec": {
   "display_name": "Python 3 (ipykernel)",
   "language": "python",
   "name": "python3"
  },
  "language_info": {
   "codemirror_mode": {
    "name": "ipython",
    "version": 3
   },
   "file_extension": ".py",
   "mimetype": "text/x-python",
   "name": "python",
   "nbconvert_exporter": "python",
   "pygments_lexer": "ipython3",
   "version": "3.8.12"
  }
 },
 "nbformat": 4,
 "nbformat_minor": 5
}

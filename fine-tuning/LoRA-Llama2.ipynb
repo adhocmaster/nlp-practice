{
 "cells": [
  {
   "cell_type": "code",
   "execution_count": 1,
   "id": "de102273-efd4-4c9c-b5d1-6751f8be980d",
   "metadata": {},
   "outputs": [],
   "source": [
    "# https://pytorch.org/torchtune/stable/tutorials/lora_finetune.html"
   ]
  },
  {
   "cell_type": "code",
   "execution_count": null,
   "id": "bf190cbb-f439-404b-9d11-cb37058dd047",
   "metadata": {},
   "outputs": [],
   "source": []
  }
 ],
 "metadata": {
  "kernelspec": {
   "display_name": "Python 3 (ipykernel)",
   "language": "python",
   "name": "python3"
  },
  "language_info": {
   "codemirror_mode": {
    "name": "ipython",
    "version": 3
   },
   "file_extension": ".py",
   "mimetype": "text/x-python",
   "name": "python",
   "nbconvert_exporter": "python",
   "pygments_lexer": "ipython3",
   "version": "3.8.17"
  }
 },
 "nbformat": 4,
 "nbformat_minor": 5
}

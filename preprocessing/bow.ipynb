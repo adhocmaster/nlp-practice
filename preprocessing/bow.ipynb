{
 "cells": [
  {
   "cell_type": "markdown",
   "id": "bfc319aa-f0d8-4e0a-9651-9165e94d8c4c",
   "metadata": {},
   "source": [
    "# Bag of words\n",
    "\n",
    "### Using Scikit-Learn: CountVectorizer"
   ]
  },
  {
   "cell_type": "code",
   "execution_count": 59,
   "id": "3629aab4-7423-4313-87ae-1c0f9218c12d",
   "metadata": {},
   "outputs": [],
   "source": [
    "import numpy as np\n",
    "import pandas as pd\n",
    "from sklearn.feature_extraction.text import CountVectorizer, TfidfVectorizer\n",
    "from sklearn.naive_bayes import MultinomialNB\n",
    "from sklearn.model_selection import train_test_split\n",
    "\n",
    "import nltk\n",
    "from nltk import word_tokenize\n",
    "from nltk.stem import WordNetLemmatizer, PorterStemmer\n",
    "from nltk.corpus import wordnet\n",
    "from nltk.corpus import stopwords\n",
    "\n",
    "from tqdm import tqdm\n",
    "import seaborn as sns\n",
    "sns.set_style(\"darkgrid\")"
   ]
  },
  {
   "cell_type": "code",
   "execution_count": 47,
   "id": "afe04def-0e17-41b9-bcc7-cb5361ba3d96",
   "metadata": {},
   "outputs": [
    {
     "name": "stderr",
     "output_type": "stream",
     "text": [
      "[nltk_data] Downloading package wordnet to\n",
      "[nltk_data]     C:\\Users\\adhocmaster\\AppData\\Roaming\\nltk_data...\n",
      "[nltk_data]   Package wordnet is already up-to-date!\n",
      "[nltk_data] Downloading package omw-1.4 to\n",
      "[nltk_data]     C:\\Users\\adhocmaster\\AppData\\Roaming\\nltk_data...\n",
      "[nltk_data]   Package omw-1.4 is already up-to-date!\n",
      "[nltk_data] Downloading package punkt to\n",
      "[nltk_data]     C:\\Users\\adhocmaster\\AppData\\Roaming\\nltk_data...\n",
      "[nltk_data]   Package punkt is already up-to-date!\n",
      "[nltk_data] Downloading package averaged_perceptron_tagger to\n",
      "[nltk_data]     C:\\Users\\adhocmaster\\AppData\\Roaming\\nltk_data...\n",
      "[nltk_data]   Package averaged_perceptron_tagger is already up-to-\n",
      "[nltk_data]       date!\n",
      "[nltk_data] Downloading package stopwords to\n",
      "[nltk_data]     C:\\Users\\adhocmaster\\AppData\\Roaming\\nltk_data...\n",
      "[nltk_data]   Package stopwords is already up-to-date!\n"
     ]
    },
    {
     "data": {
      "text/plain": [
       "True"
      ]
     },
     "execution_count": 47,
     "metadata": {},
     "output_type": "execute_result"
    }
   ],
   "source": [
    "nltk.download(\"wordnet\")\n",
    "nltk.download('omw-1.4')\n",
    "nltk.download(\"punkt\")\n",
    "nltk.download(\"averaged_perceptron_tagger\")\n",
    "nltk.download('stopwords')"
   ]
  },
  {
   "cell_type": "code",
   "execution_count": 3,
   "id": "e38b889d-34ce-4e96-b982-81dfe2615832",
   "metadata": {},
   "outputs": [
    {
     "name": "stderr",
     "output_type": "stream",
     "text": [
      "'wget' is not recognized as an internal or external command,\n",
      "operable program or batch file.\n"
     ]
    }
   ],
   "source": [
    "# !wget -nc https://lazyprogrammer.me/course_files/nlp/bbc_text_cls.csv"
   ]
  },
  {
   "cell_type": "code",
   "execution_count": 6,
   "id": "1e256377-be4e-4f8d-9e97-518214a90ae4",
   "metadata": {},
   "outputs": [],
   "source": [
    "df = pd.read_csv(\"./data/bbc_text_cls.csv\")"
   ]
  },
  {
   "cell_type": "code",
   "execution_count": 7,
   "id": "2ce7a378-89a3-4511-96e6-2143cdb9f280",
   "metadata": {},
   "outputs": [
    {
     "data": {
      "text/html": [
       "<div>\n",
       "<style scoped>\n",
       "    .dataframe tbody tr th:only-of-type {\n",
       "        vertical-align: middle;\n",
       "    }\n",
       "\n",
       "    .dataframe tbody tr th {\n",
       "        vertical-align: top;\n",
       "    }\n",
       "\n",
       "    .dataframe thead th {\n",
       "        text-align: right;\n",
       "    }\n",
       "</style>\n",
       "<table border=\"1\" class=\"dataframe\">\n",
       "  <thead>\n",
       "    <tr style=\"text-align: right;\">\n",
       "      <th></th>\n",
       "      <th>text</th>\n",
       "      <th>labels</th>\n",
       "    </tr>\n",
       "  </thead>\n",
       "  <tbody>\n",
       "    <tr>\n",
       "      <th>0</th>\n",
       "      <td>Ad sales boost Time Warner profit\\n\\nQuarterly...</td>\n",
       "      <td>business</td>\n",
       "    </tr>\n",
       "    <tr>\n",
       "      <th>1</th>\n",
       "      <td>Dollar gains on Greenspan speech\\n\\nThe dollar...</td>\n",
       "      <td>business</td>\n",
       "    </tr>\n",
       "    <tr>\n",
       "      <th>2</th>\n",
       "      <td>Yukos unit buyer faces loan claim\\n\\nThe owner...</td>\n",
       "      <td>business</td>\n",
       "    </tr>\n",
       "    <tr>\n",
       "      <th>3</th>\n",
       "      <td>High fuel prices hit BA's profits\\n\\nBritish A...</td>\n",
       "      <td>business</td>\n",
       "    </tr>\n",
       "    <tr>\n",
       "      <th>4</th>\n",
       "      <td>Pernod takeover talk lifts Domecq\\n\\nShares in...</td>\n",
       "      <td>business</td>\n",
       "    </tr>\n",
       "  </tbody>\n",
       "</table>\n",
       "</div>"
      ],
      "text/plain": [
       "                                                text    labels\n",
       "0  Ad sales boost Time Warner profit\\n\\nQuarterly...  business\n",
       "1  Dollar gains on Greenspan speech\\n\\nThe dollar...  business\n",
       "2  Yukos unit buyer faces loan claim\\n\\nThe owner...  business\n",
       "3  High fuel prices hit BA's profits\\n\\nBritish A...  business\n",
       "4  Pernod takeover talk lifts Domecq\\n\\nShares in...  business"
      ]
     },
     "execution_count": 7,
     "metadata": {},
     "output_type": "execute_result"
    }
   ],
   "source": [
    "df.head()"
   ]
  },
  {
   "cell_type": "code",
   "execution_count": 10,
   "id": "65f13fd7-ed05-4975-a8bf-dfa0147b1adb",
   "metadata": {},
   "outputs": [],
   "source": [
    "inputs = df['text']\n",
    "labels = df['labels']"
   ]
  },
  {
   "cell_type": "code",
   "execution_count": 18,
   "id": "b7d4b7b5-5008-4c59-9a0e-ff6d64b3dc40",
   "metadata": {},
   "outputs": [
    {
     "data": {
      "text/plain": [
       "<matplotlib.axes._subplots.AxesSubplot at 0x221e06519d0>"
      ]
     },
     "execution_count": 18,
     "metadata": {},
     "output_type": "execute_result"
    },
    {
     "data": {
      "image/png": "[encoded data removed]",
      "text/plain": [
       "<Figure size 400x200 with 1 Axes>"
      ]
     },
     "metadata": {},
     "output_type": "display_data"
    }
   ],
   "source": [
    "labels.hist(figsize=(4,2))"
   ]
  },
  {
   "cell_type": "markdown",
   "id": "ae5a857e-fb76-4fc7-b9fe-1394618c3479",
   "metadata": {},
   "source": [
    "### Building a model without preprocessing data"
   ]
  },
  {
   "cell_type": "code",
   "execution_count": 26,
   "id": "85bc0082-6066-44e4-b8ab-830b5a8aa2db",
   "metadata": {},
   "outputs": [],
   "source": [
    "RawX_train, RawX_test, Ytrain, Ytest = train_test_split(\n",
    "    inputs, \n",
    "    labels, \n",
    "    random_state=42\n",
    ") "
   ]
  },
  {
   "cell_type": "code",
   "execution_count": 21,
   "id": "dc17c858-9123-446d-af5d-4a7dbe296a91",
   "metadata": {},
   "outputs": [],
   "source": [
    "vectorizer = CountVectorizer()\n",
    "Xtrain = vectorizer.fit_transform(RawX_train)\n",
    "Xtest = vectorizer.transform(RawX_test)"
   ]
  },
  {
   "cell_type": "code",
   "execution_count": 22,
   "id": "894ca159-2254-4d61-a9c4-eb3ac9e71ced",
   "metadata": {},
   "outputs": [
    {
     "data": {
      "text/plain": [
       "<1668x26157 sparse matrix of type '<class 'numpy.int64'>'\n",
       "\twith 337538 stored elements in Compressed Sparse Row format>"
      ]
     },
     "execution_count": 22,
     "metadata": {},
     "output_type": "execute_result"
    }
   ],
   "source": [
    "Xtrain"
   ]
  },
  {
   "cell_type": "code",
   "execution_count": 23,
   "id": "b3090963-6bad-4706-9ba9-8ef48eb47ec1",
   "metadata": {},
   "outputs": [
    {
     "data": {
      "text/plain": [
       "337538"
      ]
     },
     "execution_count": 23,
     "metadata": {},
     "output_type": "execute_result"
    }
   ],
   "source": [
    "(Xtrain != 0).sum()"
   ]
  },
  {
   "cell_type": "code",
   "execution_count": 25,
   "id": "f18eb0aa-2a4e-44a0-bf28-c2fb36a97be2",
   "metadata": {},
   "outputs": [
    {
     "data": {
      "text/plain": [
       "0.00773639604201488"
      ]
     },
     "execution_count": 25,
     "metadata": {},
     "output_type": "execute_result"
    }
   ],
   "source": [
    "# percentage non zero in Xtrain!\n",
    "(Xtrain != 0).sum() / np.prod(Xtrain.shape)"
   ]
  },
  {
   "cell_type": "code",
   "execution_count": 30,
   "id": "a768025f-c192-40c4-8ef7-b581438905a9",
   "metadata": {},
   "outputs": [
    {
     "name": "stdout",
     "output_type": "stream",
     "text": [
      "train score 0.9952038369304557\n",
      "test score 0.9712746858168761\n"
     ]
    }
   ],
   "source": [
    "model = MultinomialNB()\n",
    "model.fit(Xtrain, Ytrain)\n",
    "print(\"train score\", model.score(Xtrain, Ytrain))\n",
    "print(\"test score\", model.score(Xtest, Ytest))"
   ]
  },
  {
   "cell_type": "markdown",
   "id": "9211d2bf-bc83-4d3b-b038-d76f76add3d9",
   "metadata": {},
   "source": [
    "### Building a model with preprocessing data"
   ]
  },
  {
   "cell_type": "code",
   "execution_count": 51,
   "id": "30b5482a-bdf0-4aaa-9540-3a290bbe3813",
   "metadata": {},
   "outputs": [],
   "source": [
    "# first convert inputs\n",
    "from typing import List, Tuple\n",
    "def treebankToWordnetPOS(treebankTag: str) -> str:\n",
    "    if treebankTag.startswith(\"J\"):\n",
    "        return wordnet.ADJ\n",
    "    if treebankTag.startswith(\"V\"):\n",
    "        return wordnet.VERB\n",
    "    if treebankTag.startswith(\"N\"):\n",
    "        return wordnet.NOUN\n",
    "    if treebankTag.startswith(\"R\"):\n",
    "        return wordnet.ADV\n",
    "    else:\n",
    "        return wordnet.NOUN\n",
    "    \n",
    "def lemmatize(inputs) -> List[Tuple[str, str]]:\n",
    "    \n",
    "    lemmatizer = WordNetLemmatizer()\n",
    "    \n",
    "    output = []\n",
    "    for rawDoc in tqdm(inputs, desc = \"lemmatizing\"):\n",
    "        # break, get tags, remake sentence\n",
    "        wordsAndTags = nltk.pos_tag(word_tokenize(rawDoc))\n",
    "        lemmatizedWs = [lemmatizer.lemmatize(word, treebankToWordnetPOS(tag)) \n",
    "                            for word, tag in wordsAndTags]\n",
    "        output.append(\" \".join(lemmatizedWs))\n",
    "    \n",
    "    return output\n",
    "    "
   ]
  },
  {
   "cell_type": "code",
   "execution_count": 52,
   "id": "afabb716-e4c2-4580-bb9e-4821bb3eac19",
   "metadata": {},
   "outputs": [
    {
     "name": "stderr",
     "output_type": "stream",
     "text": [
      "lemmatizing: 100%|█████████████████████████████████████████████████████████████████████| 2225/2225 [00:39<00:00, 56.62it/s]\n"
     ]
    }
   ],
   "source": [
    "lemmaInputs = lemmatize(inputs)"
   ]
  },
  {
   "cell_type": "code",
   "execution_count": 56,
   "id": "8329d53c-46e3-4ace-a547-b5cb7b3770e8",
   "metadata": {},
   "outputs": [],
   "source": [
    "assert len(lemmaInputs) == len(inputs)"
   ]
  },
  {
   "cell_type": "code",
   "execution_count": 57,
   "id": "15cfebff-97cc-4fb8-8dfd-92a2900e2a4d",
   "metadata": {},
   "outputs": [],
   "source": [
    "RawX_train, RawX_test, Ytrain, Ytest = train_test_split(\n",
    "    lemmaInputs, \n",
    "    labels, \n",
    "    random_state=42\n",
    ") \n",
    "vectorizer = CountVectorizer(stop_words=stopwords.words('english'))\n",
    "Xtrain = vectorizer.fit_transform(RawX_train)\n",
    "Xtest = vectorizer.transform(RawX_test)"
   ]
  },
  {
   "cell_type": "code",
   "execution_count": 58,
   "id": "c4f78bc2-3ef9-4e49-817a-64364348b19f",
   "metadata": {},
   "outputs": [
    {
     "name": "stdout",
     "output_type": "stream",
     "text": [
      "train score 0.9958033573141487\n",
      "test score 0.9694793536804309\n"
     ]
    }
   ],
   "source": [
    "model = MultinomialNB()\n",
    "model.fit(Xtrain, Ytrain)\n",
    "print(\"train score\", model.score(Xtrain, Ytrain))\n",
    "print(\"test score\", model.score(Xtest, Ytest))"
   ]
  },
  {
   "cell_type": "markdown",
   "id": "8ae4147c-af42-4005-8573-0149935f1bd7",
   "metadata": {},
   "source": [
    "## Building a model with TF-IDF"
   ]
  },
  {
   "cell_type": "code",
   "execution_count": 60,
   "id": "15c54ef2-47d9-4ee9-8908-9d0700a53f13",
   "metadata": {},
   "outputs": [
    {
     "name": "stdout",
     "output_type": "stream",
     "text": [
      "train score 0.988009592326139\n",
      "test score 0.9605026929982047\n"
     ]
    }
   ],
   "source": [
    "\n",
    "vectorizer = TfidfVectorizer(stop_words=stopwords.words('english'))\n",
    "Xtrain = vectorizer.fit_transform(RawX_train)\n",
    "Xtest = vectorizer.transform(RawX_test)\n",
    "model = MultinomialNB()\n",
    "model.fit(Xtrain, Ytrain)\n",
    "print(\"train score\", model.score(Xtrain, Ytrain))\n",
    "print(\"test score\", model.score(Xtest, Ytest))"
   ]
  },
  {
   "cell_type": "markdown",
   "id": "c7bc3303-4411-40b9-b6fa-72989c2851c4",
   "metadata": {},
   "source": [
    "### with L1 normalization"
   ]
  },
  {
   "cell_type": "code",
   "execution_count": 63,
   "id": "5b8856ea-e42f-41dd-a12b-09e9c0b30234",
   "metadata": {},
   "outputs": [
    {
     "name": "stdout",
     "output_type": "stream",
     "text": [
      "train score 0.459832134292566\n",
      "test score 0.466786355475763\n"
     ]
    }
   ],
   "source": [
    "\n",
    "vectorizer = TfidfVectorizer(stop_words=stopwords.words('english'), norm=\"l1\")\n",
    "Xtrain = vectorizer.fit_transform(RawX_train)\n",
    "Xtest = vectorizer.transform(RawX_test)\n",
    "model = MultinomialNB()\n",
    "model.fit(Xtrain, Ytrain)\n",
    "print(\"train score\", model.score(Xtrain, Ytrain))\n",
    "print(\"test score\", model.score(Xtest, Ytest))"
   ]
  },
  {
   "cell_type": "code",
   "execution_count": null,
   "id": "b7d642fb-e6d4-47fc-b744-ec882f8b7329",
   "metadata": {},
   "outputs": [],
   "source": []
  }
 ],
 "metadata": {
  "kernelspec": {
   "display_name": "Python 3 (ipykernel)",
   "language": "python",
   "name": "python3"
  },
  "language_info": {
   "codemirror_mode": {
    "name": "ipython",
    "version": 3
   },
   "file_extension": ".py",
   "mimetype": "text/x-python",
   "name": "python",
   "nbconvert_exporter": "python",
   "pygments_lexer": "ipython3",
   "version": "3.8.12"
  }
 },
 "nbformat": 4,
 "nbformat_minor": 5
}
